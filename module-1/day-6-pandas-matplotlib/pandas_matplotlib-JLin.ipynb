{
 "cells": [
  {
   "cell_type": "markdown",
   "metadata": {},
   "source": [
    "# Data Cleaning with Pandas (continued)"
   ]
  },
  {
   "cell_type": "code",
   "execution_count": 1,
   "metadata": {
    "pycharm": {
     "is_executing": false
    }
   },
   "outputs": [],
   "source": [
    "import pandas as pd"
   ]
  },
  {
   "cell_type": "code",
   "execution_count": 2,
   "metadata": {
    "pycharm": {
     "is_executing": false
    }
   },
   "outputs": [],
   "source": [
    "uci = pd.read_csv('data/heart.csv')"
   ]
  },
  {
   "cell_type": "code",
   "execution_count": 3,
   "metadata": {
    "pycharm": {
     "is_executing": false
    }
   },
   "outputs": [],
   "source": [
    "animal_outcomes = pd.read_csv('https://data.austintexas.gov/api/views/9t4d-g238/rows.csv?accessType=DOWNLOAD')\n",
    "animal_outcomes.columns = [x.lower().replace(' ', '_') for x in animal_outcomes.columns]"
   ]
  },
  {
   "cell_type": "markdown",
   "metadata": {},
   "source": [
    "## 3. Methods for Re-Organizing DataFrames\n",
    "#### `.groupby()`"
   ]
  },
  {
   "cell_type": "markdown",
   "metadata": {},
   "source": [
    "Those of you familiar with SQL have probably used the GROUP BY command. Pandas has this, too.\n",
    "\n",
    "The `.groupby()` method is especially useful for aggregate functions applied to the data grouped in particular ways."
   ]
  },
  {
   "cell_type": "code",
   "execution_count": 4,
   "metadata": {
    "pycharm": {
     "is_executing": false
    }
   },
   "outputs": [
    {
     "data": {
      "text/plain": "    age  sex  cp  trestbps  chol  fbs  restecg  thalach  exang  oldpeak  \\\n0    63    1   3       145   233    1        0      150      0      2.3   \n1    37    1   2       130   250    0        1      187      0      3.5   \n2    41    0   1       130   204    0        0      172      0      1.4   \n3    56    1   1       120   236    0        1      178      0      0.8   \n4    57    0   0       120   354    0        1      163      1      0.6   \n5    57    1   0       140   192    0        1      148      0      0.4   \n6    56    0   1       140   294    0        0      153      0      1.3   \n7    44    1   1       120   263    0        1      173      0      0.0   \n11   48    0   2       130   275    0        1      139      0      0.2   \n14   58    0   3       150   283    1        0      162      0      1.0   \n\n    slope  ca  thal  target  \n0       0   0     1       1  \n1       0   0     2       1  \n2       2   0     2       1  \n3       2   0     2       1  \n4       2   0     2       1  \n5       1   0     1       1  \n6       1   0     2       1  \n7       2   0     3       1  \n11      2   0     2       1  \n14      2   0     2       1  ",
      "text/html": "<div>\n<style scoped>\n    .dataframe tbody tr th:only-of-type {\n        vertical-align: middle;\n    }\n\n    .dataframe tbody tr th {\n        vertical-align: top;\n    }\n\n    .dataframe thead th {\n        text-align: right;\n    }\n</style>\n<table border=\"1\" class=\"dataframe\">\n  <thead>\n    <tr style=\"text-align: right;\">\n      <th></th>\n      <th>age</th>\n      <th>sex</th>\n      <th>cp</th>\n      <th>trestbps</th>\n      <th>chol</th>\n      <th>fbs</th>\n      <th>restecg</th>\n      <th>thalach</th>\n      <th>exang</th>\n      <th>oldpeak</th>\n      <th>slope</th>\n      <th>ca</th>\n      <th>thal</th>\n      <th>target</th>\n    </tr>\n  </thead>\n  <tbody>\n    <tr>\n      <th>0</th>\n      <td>63</td>\n      <td>1</td>\n      <td>3</td>\n      <td>145</td>\n      <td>233</td>\n      <td>1</td>\n      <td>0</td>\n      <td>150</td>\n      <td>0</td>\n      <td>2.3</td>\n      <td>0</td>\n      <td>0</td>\n      <td>1</td>\n      <td>1</td>\n    </tr>\n    <tr>\n      <th>1</th>\n      <td>37</td>\n      <td>1</td>\n      <td>2</td>\n      <td>130</td>\n      <td>250</td>\n      <td>0</td>\n      <td>1</td>\n      <td>187</td>\n      <td>0</td>\n      <td>3.5</td>\n      <td>0</td>\n      <td>0</td>\n      <td>2</td>\n      <td>1</td>\n    </tr>\n    <tr>\n      <th>2</th>\n      <td>41</td>\n      <td>0</td>\n      <td>1</td>\n      <td>130</td>\n      <td>204</td>\n      <td>0</td>\n      <td>0</td>\n      <td>172</td>\n      <td>0</td>\n      <td>1.4</td>\n      <td>2</td>\n      <td>0</td>\n      <td>2</td>\n      <td>1</td>\n    </tr>\n    <tr>\n      <th>3</th>\n      <td>56</td>\n      <td>1</td>\n      <td>1</td>\n      <td>120</td>\n      <td>236</td>\n      <td>0</td>\n      <td>1</td>\n      <td>178</td>\n      <td>0</td>\n      <td>0.8</td>\n      <td>2</td>\n      <td>0</td>\n      <td>2</td>\n      <td>1</td>\n    </tr>\n    <tr>\n      <th>4</th>\n      <td>57</td>\n      <td>0</td>\n      <td>0</td>\n      <td>120</td>\n      <td>354</td>\n      <td>0</td>\n      <td>1</td>\n      <td>163</td>\n      <td>1</td>\n      <td>0.6</td>\n      <td>2</td>\n      <td>0</td>\n      <td>2</td>\n      <td>1</td>\n    </tr>\n    <tr>\n      <th>5</th>\n      <td>57</td>\n      <td>1</td>\n      <td>0</td>\n      <td>140</td>\n      <td>192</td>\n      <td>0</td>\n      <td>1</td>\n      <td>148</td>\n      <td>0</td>\n      <td>0.4</td>\n      <td>1</td>\n      <td>0</td>\n      <td>1</td>\n      <td>1</td>\n    </tr>\n    <tr>\n      <th>6</th>\n      <td>56</td>\n      <td>0</td>\n      <td>1</td>\n      <td>140</td>\n      <td>294</td>\n      <td>0</td>\n      <td>0</td>\n      <td>153</td>\n      <td>0</td>\n      <td>1.3</td>\n      <td>1</td>\n      <td>0</td>\n      <td>2</td>\n      <td>1</td>\n    </tr>\n    <tr>\n      <th>7</th>\n      <td>44</td>\n      <td>1</td>\n      <td>1</td>\n      <td>120</td>\n      <td>263</td>\n      <td>0</td>\n      <td>1</td>\n      <td>173</td>\n      <td>0</td>\n      <td>0.0</td>\n      <td>2</td>\n      <td>0</td>\n      <td>3</td>\n      <td>1</td>\n    </tr>\n    <tr>\n      <th>11</th>\n      <td>48</td>\n      <td>0</td>\n      <td>2</td>\n      <td>130</td>\n      <td>275</td>\n      <td>0</td>\n      <td>1</td>\n      <td>139</td>\n      <td>0</td>\n      <td>0.2</td>\n      <td>2</td>\n      <td>0</td>\n      <td>2</td>\n      <td>1</td>\n    </tr>\n    <tr>\n      <th>14</th>\n      <td>58</td>\n      <td>0</td>\n      <td>3</td>\n      <td>150</td>\n      <td>283</td>\n      <td>1</td>\n      <td>0</td>\n      <td>162</td>\n      <td>0</td>\n      <td>1.0</td>\n      <td>2</td>\n      <td>0</td>\n      <td>2</td>\n      <td>1</td>\n    </tr>\n  </tbody>\n</table>\n</div>"
     },
     "metadata": {},
     "output_type": "execute_result",
     "execution_count": 4
    }
   ],
   "source": [
    "sex = uci.groupby('sex')\n",
    "sex.head()"
   ]
  },
  {
   "cell_type": "markdown",
   "metadata": {},
   "source": [
    "#### `.groups` and `.get_group()`"
   ]
  },
  {
   "cell_type": "code",
   "execution_count": 5,
   "metadata": {
    "pycharm": {
     "is_executing": false
    }
   },
   "outputs": [
    {
     "data": {
      "text/plain": "{0: Int64Index([  2,   4,   6,  11,  14,  15,  16,  17,  19,  25,  28,  30,  35,\n              36,  38,  39,  40,  43,  48,  49,  50,  53,  54,  59,  60,  65,\n              67,  69,  74,  75,  82,  84,  85,  88,  89,  93,  94,  96, 102,\n             105, 107, 108, 109, 110, 112, 115, 118, 119, 120, 122, 123, 124,\n             125, 127, 128, 129, 130, 131, 134, 135, 136, 140, 142, 143, 144,\n             146, 147, 151, 153, 154, 155, 161, 167, 181, 182, 190, 204, 207,\n             213, 215, 216, 220, 223, 241, 246, 252, 258, 260, 263, 266, 278,\n             289, 292, 296, 298, 302],\n            dtype='int64'),\n 1: Int64Index([  0,   1,   3,   5,   7,   8,   9,  10,  12,  13,\n             ...\n             288, 290, 291, 293, 294, 295, 297, 299, 300, 301],\n            dtype='int64', length=207)}"
     },
     "metadata": {},
     "output_type": "execute_result",
     "execution_count": 5
    }
   ],
   "source": [
    "uci.groupby('sex').groups"
   ]
  },
  {
   "cell_type": "code",
   "execution_count": 6,
   "metadata": {
    "pycharm": {
     "is_executing": false
    }
   },
   "outputs": [
    {
     "data": {
      "text/plain": "     age  sex  cp  trestbps  chol  fbs  restecg  thalach  exang  oldpeak  \\\n2     41    0   1       130   204    0        0      172      0      1.4   \n4     57    0   0       120   354    0        1      163      1      0.6   \n6     56    0   1       140   294    0        0      153      0      1.3   \n11    48    0   2       130   275    0        1      139      0      0.2   \n14    58    0   3       150   283    1        0      162      0      1.0   \n..   ...  ...  ..       ...   ...  ...      ...      ...    ...      ...   \n289   55    0   0       128   205    0        2      130      1      2.0   \n292   58    0   0       170   225    1        0      146      1      2.8   \n296   63    0   0       124   197    0        1      136      1      0.0   \n298   57    0   0       140   241    0        1      123      1      0.2   \n302   57    0   1       130   236    0        0      174      0      0.0   \n\n     slope  ca  thal  target  \n2        2   0     2       1  \n4        2   0     2       1  \n6        1   0     2       1  \n11       2   0     2       1  \n14       2   0     2       1  \n..     ...  ..   ...     ...  \n289      1   1     3       0  \n292      1   2     1       0  \n296      1   0     2       0  \n298      1   0     3       0  \n302      1   1     2       0  \n\n[96 rows x 14 columns]",
      "text/html": "<div>\n<style scoped>\n    .dataframe tbody tr th:only-of-type {\n        vertical-align: middle;\n    }\n\n    .dataframe tbody tr th {\n        vertical-align: top;\n    }\n\n    .dataframe thead th {\n        text-align: right;\n    }\n</style>\n<table border=\"1\" class=\"dataframe\">\n  <thead>\n    <tr style=\"text-align: right;\">\n      <th></th>\n      <th>age</th>\n      <th>sex</th>\n      <th>cp</th>\n      <th>trestbps</th>\n      <th>chol</th>\n      <th>fbs</th>\n      <th>restecg</th>\n      <th>thalach</th>\n      <th>exang</th>\n      <th>oldpeak</th>\n      <th>slope</th>\n      <th>ca</th>\n      <th>thal</th>\n      <th>target</th>\n    </tr>\n  </thead>\n  <tbody>\n    <tr>\n      <th>2</th>\n      <td>41</td>\n      <td>0</td>\n      <td>1</td>\n      <td>130</td>\n      <td>204</td>\n      <td>0</td>\n      <td>0</td>\n      <td>172</td>\n      <td>0</td>\n      <td>1.4</td>\n      <td>2</td>\n      <td>0</td>\n      <td>2</td>\n      <td>1</td>\n    </tr>\n    <tr>\n      <th>4</th>\n      <td>57</td>\n      <td>0</td>\n      <td>0</td>\n      <td>120</td>\n      <td>354</td>\n      <td>0</td>\n      <td>1</td>\n      <td>163</td>\n      <td>1</td>\n      <td>0.6</td>\n      <td>2</td>\n      <td>0</td>\n      <td>2</td>\n      <td>1</td>\n    </tr>\n    <tr>\n      <th>6</th>\n      <td>56</td>\n      <td>0</td>\n      <td>1</td>\n      <td>140</td>\n      <td>294</td>\n      <td>0</td>\n      <td>0</td>\n      <td>153</td>\n      <td>0</td>\n      <td>1.3</td>\n      <td>1</td>\n      <td>0</td>\n      <td>2</td>\n      <td>1</td>\n    </tr>\n    <tr>\n      <th>11</th>\n      <td>48</td>\n      <td>0</td>\n      <td>2</td>\n      <td>130</td>\n      <td>275</td>\n      <td>0</td>\n      <td>1</td>\n      <td>139</td>\n      <td>0</td>\n      <td>0.2</td>\n      <td>2</td>\n      <td>0</td>\n      <td>2</td>\n      <td>1</td>\n    </tr>\n    <tr>\n      <th>14</th>\n      <td>58</td>\n      <td>0</td>\n      <td>3</td>\n      <td>150</td>\n      <td>283</td>\n      <td>1</td>\n      <td>0</td>\n      <td>162</td>\n      <td>0</td>\n      <td>1.0</td>\n      <td>2</td>\n      <td>0</td>\n      <td>2</td>\n      <td>1</td>\n    </tr>\n    <tr>\n      <th>...</th>\n      <td>...</td>\n      <td>...</td>\n      <td>...</td>\n      <td>...</td>\n      <td>...</td>\n      <td>...</td>\n      <td>...</td>\n      <td>...</td>\n      <td>...</td>\n      <td>...</td>\n      <td>...</td>\n      <td>...</td>\n      <td>...</td>\n      <td>...</td>\n    </tr>\n    <tr>\n      <th>289</th>\n      <td>55</td>\n      <td>0</td>\n      <td>0</td>\n      <td>128</td>\n      <td>205</td>\n      <td>0</td>\n      <td>2</td>\n      <td>130</td>\n      <td>1</td>\n      <td>2.0</td>\n      <td>1</td>\n      <td>1</td>\n      <td>3</td>\n      <td>0</td>\n    </tr>\n    <tr>\n      <th>292</th>\n      <td>58</td>\n      <td>0</td>\n      <td>0</td>\n      <td>170</td>\n      <td>225</td>\n      <td>1</td>\n      <td>0</td>\n      <td>146</td>\n      <td>1</td>\n      <td>2.8</td>\n      <td>1</td>\n      <td>2</td>\n      <td>1</td>\n      <td>0</td>\n    </tr>\n    <tr>\n      <th>296</th>\n      <td>63</td>\n      <td>0</td>\n      <td>0</td>\n      <td>124</td>\n      <td>197</td>\n      <td>0</td>\n      <td>1</td>\n      <td>136</td>\n      <td>1</td>\n      <td>0.0</td>\n      <td>1</td>\n      <td>0</td>\n      <td>2</td>\n      <td>0</td>\n    </tr>\n    <tr>\n      <th>298</th>\n      <td>57</td>\n      <td>0</td>\n      <td>0</td>\n      <td>140</td>\n      <td>241</td>\n      <td>0</td>\n      <td>1</td>\n      <td>123</td>\n      <td>1</td>\n      <td>0.2</td>\n      <td>1</td>\n      <td>0</td>\n      <td>3</td>\n      <td>0</td>\n    </tr>\n    <tr>\n      <th>302</th>\n      <td>57</td>\n      <td>0</td>\n      <td>1</td>\n      <td>130</td>\n      <td>236</td>\n      <td>0</td>\n      <td>0</td>\n      <td>174</td>\n      <td>0</td>\n      <td>0.0</td>\n      <td>1</td>\n      <td>1</td>\n      <td>2</td>\n      <td>0</td>\n    </tr>\n  </tbody>\n</table>\n<p>96 rows × 14 columns</p>\n</div>"
     },
     "metadata": {},
     "output_type": "execute_result",
     "execution_count": 6
    }
   ],
   "source": [
    "uci.groupby('sex').get_group(0) # .tail()"
   ]
  },
  {
   "cell_type": "markdown",
   "metadata": {},
   "source": [
    "### Aggregating"
   ]
  },
  {
   "cell_type": "code",
   "execution_count": 7,
   "metadata": {
    "scrolled": true,
    "pycharm": {
     "is_executing": false
    }
   },
   "outputs": [
    {
     "data": {
      "text/plain": "          age        cp   trestbps       chol       fbs   restecg    thalach  \\\nsex                                                                            \n0    9.409396  0.972427  19.311119  65.088946  0.332455  0.557150  20.047969   \n1    8.883803  1.059064  16.658246  42.782392  0.366955  0.510754  24.130882   \n\n        exang   oldpeak     slope        ca      thal    target  \nsex                                                              \n0    0.422503  1.119844  0.593736  0.881026  0.441290  0.435286  \n1    0.484505  1.174632  0.627378  1.074082  0.659949  0.498626  ",
      "text/html": "<div>\n<style scoped>\n    .dataframe tbody tr th:only-of-type {\n        vertical-align: middle;\n    }\n\n    .dataframe tbody tr th {\n        vertical-align: top;\n    }\n\n    .dataframe thead th {\n        text-align: right;\n    }\n</style>\n<table border=\"1\" class=\"dataframe\">\n  <thead>\n    <tr style=\"text-align: right;\">\n      <th></th>\n      <th>age</th>\n      <th>cp</th>\n      <th>trestbps</th>\n      <th>chol</th>\n      <th>fbs</th>\n      <th>restecg</th>\n      <th>thalach</th>\n      <th>exang</th>\n      <th>oldpeak</th>\n      <th>slope</th>\n      <th>ca</th>\n      <th>thal</th>\n      <th>target</th>\n    </tr>\n    <tr>\n      <th>sex</th>\n      <th></th>\n      <th></th>\n      <th></th>\n      <th></th>\n      <th></th>\n      <th></th>\n      <th></th>\n      <th></th>\n      <th></th>\n      <th></th>\n      <th></th>\n      <th></th>\n      <th></th>\n    </tr>\n  </thead>\n  <tbody>\n    <tr>\n      <th>0</th>\n      <td>9.409396</td>\n      <td>0.972427</td>\n      <td>19.311119</td>\n      <td>65.088946</td>\n      <td>0.332455</td>\n      <td>0.557150</td>\n      <td>20.047969</td>\n      <td>0.422503</td>\n      <td>1.119844</td>\n      <td>0.593736</td>\n      <td>0.881026</td>\n      <td>0.441290</td>\n      <td>0.435286</td>\n    </tr>\n    <tr>\n      <th>1</th>\n      <td>8.883803</td>\n      <td>1.059064</td>\n      <td>16.658246</td>\n      <td>42.782392</td>\n      <td>0.366955</td>\n      <td>0.510754</td>\n      <td>24.130882</td>\n      <td>0.484505</td>\n      <td>1.174632</td>\n      <td>0.627378</td>\n      <td>1.074082</td>\n      <td>0.659949</td>\n      <td>0.498626</td>\n    </tr>\n  </tbody>\n</table>\n</div>"
     },
     "metadata": {},
     "output_type": "execute_result",
     "execution_count": 7
    }
   ],
   "source": [
    "uci.groupby('sex').std()"
   ]
  },
  {
   "cell_type": "markdown",
   "metadata": {},
   "source": [
    "Exercise: Tell me the average cholesterol level for those with heart disease."
   ]
  },
  {
   "cell_type": "code",
   "execution_count": 8,
   "metadata": {
    "pycharm": {
     "is_executing": false
    }
   },
   "outputs": [
    {
     "data": {
      "text/plain": "target\n0    251.086957\n1    242.230303\nName: chol, dtype: float64"
     },
     "metadata": {},
     "output_type": "execute_result",
     "execution_count": 8
    }
   ],
   "source": [
    "# Your code here!\n",
    "uci.groupby('target').mean().chol"
   ]
  },
  {
   "cell_type": "markdown",
   "metadata": {},
   "source": [
    "### Apply to Animal Shelter Data\n",
    "\n",
    "#### Task 1\n",
    "- Use a groupby to show the average age of the different kinds of animal types.\n",
    "- What about by animal types **and** gender?\n",
    " "
   ]
  },
  {
   "cell_type": "code",
   "execution_count": 9,
   "metadata": {
    "scrolled": true,
    "pycharm": {
     "is_executing": false
    }
   },
   "outputs": [
    {
     "data": {
      "text/plain": "  animal_id        name                datetime               monthyear  \\\n0   A789027      Lennie  02/17/2019 11:44:00 AM  02/17/2019 11:44:00 AM   \n1   A720371       Moose  02/13/2016 05:59:00 PM  02/13/2016 05:59:00 PM   \n2   A674754         NaN  03/18/2014 11:47:00 AM  03/18/2014 11:47:00 AM   \n3   A689724  *Donatello  10/18/2014 06:52:00 PM  10/18/2014 06:52:00 PM   \n4   A680969       *Zeus  08/05/2014 04:59:00 PM  08/05/2014 04:59:00 PM   \n\n  date_of_birth outcome_type outcome_subtype animal_type sex_upon_outcome  \\\n0    02/13/2017     Adoption             NaN         Dog    Neutered Male   \n1    10/08/2015     Adoption             NaN         Dog    Neutered Male   \n2    03/12/2014     Transfer         Partner         Cat      Intact Male   \n3    08/01/2014     Adoption             NaN         Cat    Neutered Male   \n4    06/03/2014     Adoption             NaN         Cat    Neutered Male   \n\n  age_upon_outcome                               breed               color  \n0          2 years             Chihuahua Shorthair Mix               Cream  \n1         4 months  Anatol Shepherd/Labrador Retriever                Buff  \n2           6 days              Domestic Shorthair Mix        Orange Tabby  \n3         2 months              Domestic Shorthair Mix               Black  \n4         2 months              Domestic Shorthair Mix  White/Orange Tabby  ",
      "text/html": "<div>\n<style scoped>\n    .dataframe tbody tr th:only-of-type {\n        vertical-align: middle;\n    }\n\n    .dataframe tbody tr th {\n        vertical-align: top;\n    }\n\n    .dataframe thead th {\n        text-align: right;\n    }\n</style>\n<table border=\"1\" class=\"dataframe\">\n  <thead>\n    <tr style=\"text-align: right;\">\n      <th></th>\n      <th>animal_id</th>\n      <th>name</th>\n      <th>datetime</th>\n      <th>monthyear</th>\n      <th>date_of_birth</th>\n      <th>outcome_type</th>\n      <th>outcome_subtype</th>\n      <th>animal_type</th>\n      <th>sex_upon_outcome</th>\n      <th>age_upon_outcome</th>\n      <th>breed</th>\n      <th>color</th>\n    </tr>\n  </thead>\n  <tbody>\n    <tr>\n      <th>0</th>\n      <td>A789027</td>\n      <td>Lennie</td>\n      <td>02/17/2019 11:44:00 AM</td>\n      <td>02/17/2019 11:44:00 AM</td>\n      <td>02/13/2017</td>\n      <td>Adoption</td>\n      <td>NaN</td>\n      <td>Dog</td>\n      <td>Neutered Male</td>\n      <td>2 years</td>\n      <td>Chihuahua Shorthair Mix</td>\n      <td>Cream</td>\n    </tr>\n    <tr>\n      <th>1</th>\n      <td>A720371</td>\n      <td>Moose</td>\n      <td>02/13/2016 05:59:00 PM</td>\n      <td>02/13/2016 05:59:00 PM</td>\n      <td>10/08/2015</td>\n      <td>Adoption</td>\n      <td>NaN</td>\n      <td>Dog</td>\n      <td>Neutered Male</td>\n      <td>4 months</td>\n      <td>Anatol Shepherd/Labrador Retriever</td>\n      <td>Buff</td>\n    </tr>\n    <tr>\n      <th>2</th>\n      <td>A674754</td>\n      <td>NaN</td>\n      <td>03/18/2014 11:47:00 AM</td>\n      <td>03/18/2014 11:47:00 AM</td>\n      <td>03/12/2014</td>\n      <td>Transfer</td>\n      <td>Partner</td>\n      <td>Cat</td>\n      <td>Intact Male</td>\n      <td>6 days</td>\n      <td>Domestic Shorthair Mix</td>\n      <td>Orange Tabby</td>\n    </tr>\n    <tr>\n      <th>3</th>\n      <td>A689724</td>\n      <td>*Donatello</td>\n      <td>10/18/2014 06:52:00 PM</td>\n      <td>10/18/2014 06:52:00 PM</td>\n      <td>08/01/2014</td>\n      <td>Adoption</td>\n      <td>NaN</td>\n      <td>Cat</td>\n      <td>Neutered Male</td>\n      <td>2 months</td>\n      <td>Domestic Shorthair Mix</td>\n      <td>Black</td>\n    </tr>\n    <tr>\n      <th>4</th>\n      <td>A680969</td>\n      <td>*Zeus</td>\n      <td>08/05/2014 04:59:00 PM</td>\n      <td>08/05/2014 04:59:00 PM</td>\n      <td>06/03/2014</td>\n      <td>Adoption</td>\n      <td>NaN</td>\n      <td>Cat</td>\n      <td>Neutered Male</td>\n      <td>2 months</td>\n      <td>Domestic Shorthair Mix</td>\n      <td>White/Orange Tabby</td>\n    </tr>\n  </tbody>\n</table>\n</div>"
     },
     "metadata": {},
     "output_type": "execute_result",
     "execution_count": 9
    }
   ],
   "source": [
    "animal_outcomes.head()"
   ]
  },
  {
   "cell_type": "code",
   "execution_count": 10,
   "metadata": {
    "pycharm": {
     "is_executing": false
    }
   },
   "outputs": [],
   "source": [
    "animal_outcomes['age_cal'] = pd.to_datetime(animal_outcomes['datetime']) - pd.to_datetime(animal_outcomes['date_of_birth'])"
   ]
  },
  {
   "cell_type": "code",
   "execution_count": 11,
   "metadata": {
    "pycharm": {
     "is_executing": false
    }
   },
   "outputs": [
    {
     "data": {
      "text/plain": "Timedelta('804 days 03:36:43.734127')"
     },
     "metadata": {},
     "output_type": "execute_result",
     "execution_count": 11
    }
   ],
   "source": [
    "animal_outcomes['age_cal'].mean()"
   ]
  },
  {
   "cell_type": "markdown",
   "metadata": {},
   "source": [
    "#### Task 2:\n",
    "- Create new columns `year` and `month` by using a lambda function x.year on date\n",
    "- Use `groupby` and `.size()` to tell me how many animals are adopted by month"
   ]
  },
  {
   "cell_type": "code",
   "execution_count": 12,
   "metadata": {
    "pycharm": {
     "is_executing": false
    }
   },
   "outputs": [],
   "source": [
    "animal_outcomes['datetime'] = pd.to_datetime(animal_outcomes['datetime'])"
   ]
  },
  {
   "cell_type": "code",
   "execution_count": 13,
   "metadata": {
    "pycharm": {
     "is_executing": false
    }
   },
   "outputs": [],
   "source": [
    "# Your code here\n",
    "animal_outcomes['year'] = animal_outcomes['datetime'].dt.year\n",
    "animal_outcomes['month'] = animal_outcomes['datetime'].dt.month"
   ]
  },
  {
   "cell_type": "code",
   "execution_count": 14,
   "metadata": {
    "pycharm": {
     "is_executing": false
    }
   },
   "outputs": [
    {
     "data": {
      "text/plain": "outcome_type  month\nAdoption      1        3696\n              2        3169\n              3        3191\n              4        2805\n              5        3787\n                       ... \nTransfer      8        3216\n              9        3275\n              10       3580\n              11       2712\n              12       1979\nLength: 106, dtype: int64"
     },
     "metadata": {},
     "output_type": "execute_result",
     "execution_count": 14
    }
   ],
   "source": [
    "animal_outcomes.groupby(['outcome_type','month']).size()"
   ]
  },
  {
   "cell_type": "markdown",
   "metadata": {},
   "source": [
    "\n",
    "## Reshaping a DataFrame\n",
    "\n",
    "### `.pivot()` and `.pivot_table()`"
   ]
  },
  {
   "cell_type": "markdown",
   "metadata": {},
   "source": [
    "Those of you familiar with Excel have probably used Pivot Tables. Pandas has a similar functionality."
   ]
  },
  {
   "cell_type": "code",
   "execution_count": 15,
   "metadata": {
    "pycharm": {
     "is_executing": false
    }
   },
   "outputs": [
    {
     "data": {
      "text/plain": "   age  sex  cp  trestbps  chol  fbs  restecg  thalach  exang  oldpeak  slope  \\\n0   63    1   3       145   233    1        0      150      0      2.3      0   \n1   37    1   2       130   250    0        1      187      0      3.5      0   \n2   41    0   1       130   204    0        0      172      0      1.4      2   \n3   56    1   1       120   236    0        1      178      0      0.8      2   \n4   57    0   0       120   354    0        1      163      1      0.6      2   \n\n   ca  thal  target  \n0   0     1       1  \n1   0     2       1  \n2   0     2       1  \n3   0     2       1  \n4   0     2       1  ",
      "text/html": "<div>\n<style scoped>\n    .dataframe tbody tr th:only-of-type {\n        vertical-align: middle;\n    }\n\n    .dataframe tbody tr th {\n        vertical-align: top;\n    }\n\n    .dataframe thead th {\n        text-align: right;\n    }\n</style>\n<table border=\"1\" class=\"dataframe\">\n  <thead>\n    <tr style=\"text-align: right;\">\n      <th></th>\n      <th>age</th>\n      <th>sex</th>\n      <th>cp</th>\n      <th>trestbps</th>\n      <th>chol</th>\n      <th>fbs</th>\n      <th>restecg</th>\n      <th>thalach</th>\n      <th>exang</th>\n      <th>oldpeak</th>\n      <th>slope</th>\n      <th>ca</th>\n      <th>thal</th>\n      <th>target</th>\n    </tr>\n  </thead>\n  <tbody>\n    <tr>\n      <th>0</th>\n      <td>63</td>\n      <td>1</td>\n      <td>3</td>\n      <td>145</td>\n      <td>233</td>\n      <td>1</td>\n      <td>0</td>\n      <td>150</td>\n      <td>0</td>\n      <td>2.3</td>\n      <td>0</td>\n      <td>0</td>\n      <td>1</td>\n      <td>1</td>\n    </tr>\n    <tr>\n      <th>1</th>\n      <td>37</td>\n      <td>1</td>\n      <td>2</td>\n      <td>130</td>\n      <td>250</td>\n      <td>0</td>\n      <td>1</td>\n      <td>187</td>\n      <td>0</td>\n      <td>3.5</td>\n      <td>0</td>\n      <td>0</td>\n      <td>2</td>\n      <td>1</td>\n    </tr>\n    <tr>\n      <th>2</th>\n      <td>41</td>\n      <td>0</td>\n      <td>1</td>\n      <td>130</td>\n      <td>204</td>\n      <td>0</td>\n      <td>0</td>\n      <td>172</td>\n      <td>0</td>\n      <td>1.4</td>\n      <td>2</td>\n      <td>0</td>\n      <td>2</td>\n      <td>1</td>\n    </tr>\n    <tr>\n      <th>3</th>\n      <td>56</td>\n      <td>1</td>\n      <td>1</td>\n      <td>120</td>\n      <td>236</td>\n      <td>0</td>\n      <td>1</td>\n      <td>178</td>\n      <td>0</td>\n      <td>0.8</td>\n      <td>2</td>\n      <td>0</td>\n      <td>2</td>\n      <td>1</td>\n    </tr>\n    <tr>\n      <th>4</th>\n      <td>57</td>\n      <td>0</td>\n      <td>0</td>\n      <td>120</td>\n      <td>354</td>\n      <td>0</td>\n      <td>1</td>\n      <td>163</td>\n      <td>1</td>\n      <td>0.6</td>\n      <td>2</td>\n      <td>0</td>\n      <td>2</td>\n      <td>1</td>\n    </tr>\n  </tbody>\n</table>\n</div>"
     },
     "metadata": {},
     "output_type": "execute_result",
     "execution_count": 15
    }
   ],
   "source": [
    "uci.head()"
   ]
  },
  {
   "cell_type": "code",
   "execution_count": 17,
   "metadata": {
    "pycharm": {
     "is_executing": false
    }
   },
   "outputs": [
    {
     "data": {
      "text/plain": "target   0    1\n0      NaN  1.0\n1      NaN  1.0\n2      NaN  0.0\n3      NaN  1.0\n4      NaN  0.0",
      "text/html": "<div>\n<style scoped>\n    .dataframe tbody tr th:only-of-type {\n        vertical-align: middle;\n    }\n\n    .dataframe tbody tr th {\n        vertical-align: top;\n    }\n\n    .dataframe thead th {\n        text-align: right;\n    }\n</style>\n<table border=\"1\" class=\"dataframe\">\n  <thead>\n    <tr style=\"text-align: right;\">\n      <th>target</th>\n      <th>0</th>\n      <th>1</th>\n    </tr>\n  </thead>\n  <tbody>\n    <tr>\n      <th>0</th>\n      <td>NaN</td>\n      <td>1.0</td>\n    </tr>\n    <tr>\n      <th>1</th>\n      <td>NaN</td>\n      <td>1.0</td>\n    </tr>\n    <tr>\n      <th>2</th>\n      <td>NaN</td>\n      <td>0.0</td>\n    </tr>\n    <tr>\n      <th>3</th>\n      <td>NaN</td>\n      <td>1.0</td>\n    </tr>\n    <tr>\n      <th>4</th>\n      <td>NaN</td>\n      <td>0.0</td>\n    </tr>\n  </tbody>\n</table>\n</div>"
     },
     "metadata": {},
     "output_type": "execute_result",
     "execution_count": 17
    }
   ],
   "source": [
    "uci.pivot(values='sex', columns='target').head()"
   ]
  },
  {
   "cell_type": "code",
   "execution_count": 18,
   "metadata": {
    "pycharm": {
     "is_executing": false
    }
   },
   "outputs": [
    {
     "data": {
      "text/plain": "target           0           1\nsex                           \n0       274.958333  256.750000\n1       246.061404  230.989247",
      "text/html": "<div>\n<style scoped>\n    .dataframe tbody tr th:only-of-type {\n        vertical-align: middle;\n    }\n\n    .dataframe tbody tr th {\n        vertical-align: top;\n    }\n\n    .dataframe thead th {\n        text-align: right;\n    }\n</style>\n<table border=\"1\" class=\"dataframe\">\n  <thead>\n    <tr style=\"text-align: right;\">\n      <th>target</th>\n      <th>0</th>\n      <th>1</th>\n    </tr>\n    <tr>\n      <th>sex</th>\n      <th></th>\n      <th></th>\n    </tr>\n  </thead>\n  <tbody>\n    <tr>\n      <th>0</th>\n      <td>274.958333</td>\n      <td>256.750000</td>\n    </tr>\n    <tr>\n      <th>1</th>\n      <td>246.061404</td>\n      <td>230.989247</td>\n    </tr>\n  </tbody>\n</table>\n</div>"
     },
     "metadata": {},
     "output_type": "execute_result",
     "execution_count": 18
    }
   ],
   "source": [
    "uci.pivot_table(values='chol', index='sex', columns='target', aggfunc='mean')"
   ]
  },
  {
   "cell_type": "markdown",
   "metadata": {},
   "source": [
    "### Methods for Combining DataFrames: `.join()`, `.merge()`, `.concat()`, `.melt()`"
   ]
  },
  {
   "cell_type": "markdown",
   "metadata": {},
   "source": [
    "### `.join()`"
   ]
  },
  {
   "cell_type": "code",
   "execution_count": 19,
   "metadata": {
    "pycharm": {
     "is_executing": false
    }
   },
   "outputs": [],
   "source": [
    "toy1 = pd.DataFrame([[63, 142], [33, 47]], columns = ['age', 'HP'])\n",
    "toy2 = pd.DataFrame([[63, 100], [33, 200]], columns = ['age', 'HP'])"
   ]
  },
  {
   "cell_type": "code",
   "execution_count": 20,
   "outputs": [
    {
     "data": {
      "text/plain": "   age   HP\n0   63  142\n1   33   47",
      "text/html": "<div>\n<style scoped>\n    .dataframe tbody tr th:only-of-type {\n        vertical-align: middle;\n    }\n\n    .dataframe tbody tr th {\n        vertical-align: top;\n    }\n\n    .dataframe thead th {\n        text-align: right;\n    }\n</style>\n<table border=\"1\" class=\"dataframe\">\n  <thead>\n    <tr style=\"text-align: right;\">\n      <th></th>\n      <th>age</th>\n      <th>HP</th>\n    </tr>\n  </thead>\n  <tbody>\n    <tr>\n      <th>0</th>\n      <td>63</td>\n      <td>142</td>\n    </tr>\n    <tr>\n      <th>1</th>\n      <td>33</td>\n      <td>47</td>\n    </tr>\n  </tbody>\n</table>\n</div>"
     },
     "metadata": {},
     "output_type": "execute_result",
     "execution_count": 20
    }
   ],
   "source": [
    "toy1"
   ],
   "metadata": {
    "collapsed": false,
    "pycharm": {
     "name": "#%%\n",
     "is_executing": false
    }
   }
  },
  {
   "cell_type": "code",
   "execution_count": 21,
   "outputs": [
    {
     "data": {
      "text/plain": "   age   HP\n0   63  100\n1   33  200",
      "text/html": "<div>\n<style scoped>\n    .dataframe tbody tr th:only-of-type {\n        vertical-align: middle;\n    }\n\n    .dataframe tbody tr th {\n        vertical-align: top;\n    }\n\n    .dataframe thead th {\n        text-align: right;\n    }\n</style>\n<table border=\"1\" class=\"dataframe\">\n  <thead>\n    <tr style=\"text-align: right;\">\n      <th></th>\n      <th>age</th>\n      <th>HP</th>\n    </tr>\n  </thead>\n  <tbody>\n    <tr>\n      <th>0</th>\n      <td>63</td>\n      <td>100</td>\n    </tr>\n    <tr>\n      <th>1</th>\n      <td>33</td>\n      <td>200</td>\n    </tr>\n  </tbody>\n</table>\n</div>"
     },
     "metadata": {},
     "output_type": "execute_result",
     "execution_count": 21
    }
   ],
   "source": [
    "toy2"
   ],
   "metadata": {
    "collapsed": false,
    "pycharm": {
     "name": "#%%\n",
     "is_executing": false
    }
   }
  },
  {
   "cell_type": "code",
   "execution_count": 27,
   "metadata": {
    "pycharm": {
     "is_executing": false
    }
   },
   "outputs": [
    {
     "data": {
      "text/plain": "   age_1  HP_1  age_2  HP_2\n0     63   142    NaN   NaN\n1     33    47    NaN   NaN",
      "text/html": "<div>\n<style scoped>\n    .dataframe tbody tr th:only-of-type {\n        vertical-align: middle;\n    }\n\n    .dataframe tbody tr th {\n        vertical-align: top;\n    }\n\n    .dataframe thead th {\n        text-align: right;\n    }\n</style>\n<table border=\"1\" class=\"dataframe\">\n  <thead>\n    <tr style=\"text-align: right;\">\n      <th></th>\n      <th>age_1</th>\n      <th>HP_1</th>\n      <th>age_2</th>\n      <th>HP_2</th>\n    </tr>\n  </thead>\n  <tbody>\n    <tr>\n      <th>0</th>\n      <td>63</td>\n      <td>142</td>\n      <td>NaN</td>\n      <td>NaN</td>\n    </tr>\n    <tr>\n      <th>1</th>\n      <td>33</td>\n      <td>47</td>\n      <td>NaN</td>\n      <td>NaN</td>\n    </tr>\n  </tbody>\n</table>\n</div>"
     },
     "metadata": {},
     "output_type": "execute_result",
     "execution_count": 27
    }
   ],
   "source": [
    "toy1.join(toy2.set_index('age'),\n",
    "          on='age',\n",
    "          lsuffix='_1',\n",
    "          rsuffix='_2').head()\n"
   ]
  },
  {
   "cell_type": "markdown",
   "metadata": {},
   "source": [
    "### `.merge()`"
   ]
  },
  {
   "cell_type": "code",
   "execution_count": 28,
   "metadata": {
    "pycharm": {
     "is_executing": false
    }
   },
   "outputs": [
    {
     "data": {
      "text/plain": "     name   HP home_state\n0    greg  200         WA\n1   miles  200         WA\n2    alan  170         TX\n3  alison  300         DC\n4  rachel  200         TX",
      "text/html": "<div>\n<style scoped>\n    .dataframe tbody tr th:only-of-type {\n        vertical-align: middle;\n    }\n\n    .dataframe tbody tr th {\n        vertical-align: top;\n    }\n\n    .dataframe thead th {\n        text-align: right;\n    }\n</style>\n<table border=\"1\" class=\"dataframe\">\n  <thead>\n    <tr style=\"text-align: right;\">\n      <th></th>\n      <th>name</th>\n      <th>HP</th>\n      <th>home_state</th>\n    </tr>\n  </thead>\n  <tbody>\n    <tr>\n      <th>0</th>\n      <td>greg</td>\n      <td>200</td>\n      <td>WA</td>\n    </tr>\n    <tr>\n      <th>1</th>\n      <td>miles</td>\n      <td>200</td>\n      <td>WA</td>\n    </tr>\n    <tr>\n      <th>2</th>\n      <td>alan</td>\n      <td>170</td>\n      <td>TX</td>\n    </tr>\n    <tr>\n      <th>3</th>\n      <td>alison</td>\n      <td>300</td>\n      <td>DC</td>\n    </tr>\n    <tr>\n      <th>4</th>\n      <td>rachel</td>\n      <td>200</td>\n      <td>TX</td>\n    </tr>\n  </tbody>\n</table>\n</div>"
     },
     "metadata": {},
     "output_type": "execute_result",
     "execution_count": 28
    }
   ],
   "source": [
    "ds_chars = pd.read_csv('data/ds_chars.csv', index_col=0)\n",
    "ds_chars"
   ]
  },
  {
   "cell_type": "code",
   "execution_count": 29,
   "metadata": {
    "pycharm": {
     "is_executing": false
    }
   },
   "outputs": [
    {
     "data": {
      "text/plain": "  state   nickname     capital\n0    WA  evergreen     Olympia\n1    TX      alamo      Austin\n2    DC   district  Washington\n3    OH    buckeye    Columbus\n4    OR     beaver       Salem",
      "text/html": "<div>\n<style scoped>\n    .dataframe tbody tr th:only-of-type {\n        vertical-align: middle;\n    }\n\n    .dataframe tbody tr th {\n        vertical-align: top;\n    }\n\n    .dataframe thead th {\n        text-align: right;\n    }\n</style>\n<table border=\"1\" class=\"dataframe\">\n  <thead>\n    <tr style=\"text-align: right;\">\n      <th></th>\n      <th>state</th>\n      <th>nickname</th>\n      <th>capital</th>\n    </tr>\n  </thead>\n  <tbody>\n    <tr>\n      <th>0</th>\n      <td>WA</td>\n      <td>evergreen</td>\n      <td>Olympia</td>\n    </tr>\n    <tr>\n      <th>1</th>\n      <td>TX</td>\n      <td>alamo</td>\n      <td>Austin</td>\n    </tr>\n    <tr>\n      <th>2</th>\n      <td>DC</td>\n      <td>district</td>\n      <td>Washington</td>\n    </tr>\n    <tr>\n      <th>3</th>\n      <td>OH</td>\n      <td>buckeye</td>\n      <td>Columbus</td>\n    </tr>\n    <tr>\n      <th>4</th>\n      <td>OR</td>\n      <td>beaver</td>\n      <td>Salem</td>\n    </tr>\n  </tbody>\n</table>\n</div>"
     },
     "metadata": {},
     "output_type": "execute_result",
     "execution_count": 29
    }
   ],
   "source": [
    "states = pd.read_csv('data/states.csv', index_col=0)\n",
    "states"
   ]
  },
  {
   "cell_type": "code",
   "execution_count": 31,
   "metadata": {
    "pycharm": {
     "is_executing": false
    }
   },
   "outputs": [
    {
     "data": {
      "text/plain": "     name   HP home_state state   nickname     capital\n0    greg  200         WA    WA  evergreen     Olympia\n1   miles  200         WA    WA  evergreen     Olympia\n2    alan  170         TX    TX      alamo      Austin\n3  rachel  200         TX    TX      alamo      Austin\n4  alison  300         DC    DC   district  Washington",
      "text/html": "<div>\n<style scoped>\n    .dataframe tbody tr th:only-of-type {\n        vertical-align: middle;\n    }\n\n    .dataframe tbody tr th {\n        vertical-align: top;\n    }\n\n    .dataframe thead th {\n        text-align: right;\n    }\n</style>\n<table border=\"1\" class=\"dataframe\">\n  <thead>\n    <tr style=\"text-align: right;\">\n      <th></th>\n      <th>name</th>\n      <th>HP</th>\n      <th>home_state</th>\n      <th>state</th>\n      <th>nickname</th>\n      <th>capital</th>\n    </tr>\n  </thead>\n  <tbody>\n    <tr>\n      <th>0</th>\n      <td>greg</td>\n      <td>200</td>\n      <td>WA</td>\n      <td>WA</td>\n      <td>evergreen</td>\n      <td>Olympia</td>\n    </tr>\n    <tr>\n      <th>1</th>\n      <td>miles</td>\n      <td>200</td>\n      <td>WA</td>\n      <td>WA</td>\n      <td>evergreen</td>\n      <td>Olympia</td>\n    </tr>\n    <tr>\n      <th>2</th>\n      <td>alan</td>\n      <td>170</td>\n      <td>TX</td>\n      <td>TX</td>\n      <td>alamo</td>\n      <td>Austin</td>\n    </tr>\n    <tr>\n      <th>3</th>\n      <td>rachel</td>\n      <td>200</td>\n      <td>TX</td>\n      <td>TX</td>\n      <td>alamo</td>\n      <td>Austin</td>\n    </tr>\n    <tr>\n      <th>4</th>\n      <td>alison</td>\n      <td>300</td>\n      <td>DC</td>\n      <td>DC</td>\n      <td>district</td>\n      <td>Washington</td>\n    </tr>\n  </tbody>\n</table>\n</div>"
     },
     "metadata": {},
     "output_type": "execute_result",
     "execution_count": 31
    }
   ],
   "source": [
    "ds_chars.merge(states,\n",
    "               left_on='home_state',\n",
    "               right_on='state',\n",
    "               how='inner')"
   ]
  },
  {
   "cell_type": "markdown",
   "metadata": {},
   "source": [
    "### `pd.concat()`"
   ]
  },
  {
   "cell_type": "markdown",
   "metadata": {},
   "source": [
    "Exercise: Look up the documentation on pd.concat (https://pandas.pydata.org/pandas-docs/stable/reference/api/pandas.concat.html) and use it to concatenate ds_chars and states.\n",
    "<br/>\n",
    "Your result should still have only five rows!"
   ]
  },
  {
   "cell_type": "code",
   "execution_count": 32,
   "metadata": {
    "pycharm": {
     "is_executing": false
    }
   },
   "outputs": [
    {
     "data": {
      "text/plain": "     name   HP home_state state   nickname     capital\n0    greg  200         WA    WA  evergreen     Olympia\n1   miles  200         WA    TX      alamo      Austin\n2    alan  170         TX    DC   district  Washington\n3  alison  300         DC    OH    buckeye    Columbus\n4  rachel  200         TX    OR     beaver       Salem",
      "text/html": "<div>\n<style scoped>\n    .dataframe tbody tr th:only-of-type {\n        vertical-align: middle;\n    }\n\n    .dataframe tbody tr th {\n        vertical-align: top;\n    }\n\n    .dataframe thead th {\n        text-align: right;\n    }\n</style>\n<table border=\"1\" class=\"dataframe\">\n  <thead>\n    <tr style=\"text-align: right;\">\n      <th></th>\n      <th>name</th>\n      <th>HP</th>\n      <th>home_state</th>\n      <th>state</th>\n      <th>nickname</th>\n      <th>capital</th>\n    </tr>\n  </thead>\n  <tbody>\n    <tr>\n      <th>0</th>\n      <td>greg</td>\n      <td>200</td>\n      <td>WA</td>\n      <td>WA</td>\n      <td>evergreen</td>\n      <td>Olympia</td>\n    </tr>\n    <tr>\n      <th>1</th>\n      <td>miles</td>\n      <td>200</td>\n      <td>WA</td>\n      <td>TX</td>\n      <td>alamo</td>\n      <td>Austin</td>\n    </tr>\n    <tr>\n      <th>2</th>\n      <td>alan</td>\n      <td>170</td>\n      <td>TX</td>\n      <td>DC</td>\n      <td>district</td>\n      <td>Washington</td>\n    </tr>\n    <tr>\n      <th>3</th>\n      <td>alison</td>\n      <td>300</td>\n      <td>DC</td>\n      <td>OH</td>\n      <td>buckeye</td>\n      <td>Columbus</td>\n    </tr>\n    <tr>\n      <th>4</th>\n      <td>rachel</td>\n      <td>200</td>\n      <td>TX</td>\n      <td>OR</td>\n      <td>beaver</td>\n      <td>Salem</td>\n    </tr>\n  </tbody>\n</table>\n</div>"
     },
     "metadata": {},
     "output_type": "execute_result",
     "execution_count": 32
    }
   ],
   "source": [
    "pd.concat([ds_chars, states], axis=1)"
   ]
  },
  {
   "cell_type": "markdown",
   "metadata": {},
   "source": [
    "### `pd.melt()`"
   ]
  },
  {
   "cell_type": "markdown",
   "metadata": {},
   "source": [
    "Melting removes the structure from your DataFrame and puts the data in a 'variable' and 'value' format."
   ]
  },
  {
   "cell_type": "code",
   "execution_count": 33,
   "metadata": {
    "pycharm": {
     "is_executing": false
    }
   },
   "outputs": [
    {
     "data": {
      "text/plain": "     name   HP home_state\n0    greg  200         WA\n1   miles  200         WA\n2    alan  170         TX\n3  alison  300         DC\n4  rachel  200         TX",
      "text/html": "<div>\n<style scoped>\n    .dataframe tbody tr th:only-of-type {\n        vertical-align: middle;\n    }\n\n    .dataframe tbody tr th {\n        vertical-align: top;\n    }\n\n    .dataframe thead th {\n        text-align: right;\n    }\n</style>\n<table border=\"1\" class=\"dataframe\">\n  <thead>\n    <tr style=\"text-align: right;\">\n      <th></th>\n      <th>name</th>\n      <th>HP</th>\n      <th>home_state</th>\n    </tr>\n  </thead>\n  <tbody>\n    <tr>\n      <th>0</th>\n      <td>greg</td>\n      <td>200</td>\n      <td>WA</td>\n    </tr>\n    <tr>\n      <th>1</th>\n      <td>miles</td>\n      <td>200</td>\n      <td>WA</td>\n    </tr>\n    <tr>\n      <th>2</th>\n      <td>alan</td>\n      <td>170</td>\n      <td>TX</td>\n    </tr>\n    <tr>\n      <th>3</th>\n      <td>alison</td>\n      <td>300</td>\n      <td>DC</td>\n    </tr>\n    <tr>\n      <th>4</th>\n      <td>rachel</td>\n      <td>200</td>\n      <td>TX</td>\n    </tr>\n  </tbody>\n</table>\n</div>"
     },
     "metadata": {},
     "output_type": "execute_result",
     "execution_count": 33
    }
   ],
   "source": [
    "ds_chars.head()"
   ]
  },
  {
   "cell_type": "code",
   "execution_count": 38,
   "metadata": {
    "pycharm": {
     "is_executing": false
    }
   },
   "outputs": [
    {
     "data": {
      "text/plain": "     name    variable value\n0    greg          HP   200\n1   miles          HP   200\n2    alan          HP   170\n3  alison          HP   300\n4  rachel          HP   200\n5    greg  home_state    WA\n6   miles  home_state    WA\n7    alan  home_state    TX\n8  alison  home_state    DC\n9  rachel  home_state    TX",
      "text/html": "<div>\n<style scoped>\n    .dataframe tbody tr th:only-of-type {\n        vertical-align: middle;\n    }\n\n    .dataframe tbody tr th {\n        vertical-align: top;\n    }\n\n    .dataframe thead th {\n        text-align: right;\n    }\n</style>\n<table border=\"1\" class=\"dataframe\">\n  <thead>\n    <tr style=\"text-align: right;\">\n      <th></th>\n      <th>name</th>\n      <th>variable</th>\n      <th>value</th>\n    </tr>\n  </thead>\n  <tbody>\n    <tr>\n      <th>0</th>\n      <td>greg</td>\n      <td>HP</td>\n      <td>200</td>\n    </tr>\n    <tr>\n      <th>1</th>\n      <td>miles</td>\n      <td>HP</td>\n      <td>200</td>\n    </tr>\n    <tr>\n      <th>2</th>\n      <td>alan</td>\n      <td>HP</td>\n      <td>170</td>\n    </tr>\n    <tr>\n      <th>3</th>\n      <td>alison</td>\n      <td>HP</td>\n      <td>300</td>\n    </tr>\n    <tr>\n      <th>4</th>\n      <td>rachel</td>\n      <td>HP</td>\n      <td>200</td>\n    </tr>\n    <tr>\n      <th>5</th>\n      <td>greg</td>\n      <td>home_state</td>\n      <td>WA</td>\n    </tr>\n    <tr>\n      <th>6</th>\n      <td>miles</td>\n      <td>home_state</td>\n      <td>WA</td>\n    </tr>\n    <tr>\n      <th>7</th>\n      <td>alan</td>\n      <td>home_state</td>\n      <td>TX</td>\n    </tr>\n    <tr>\n      <th>8</th>\n      <td>alison</td>\n      <td>home_state</td>\n      <td>DC</td>\n    </tr>\n    <tr>\n      <th>9</th>\n      <td>rachel</td>\n      <td>home_state</td>\n      <td>TX</td>\n    </tr>\n  </tbody>\n</table>\n</div>"
     },
     "metadata": {},
     "output_type": "execute_result",
     "execution_count": 38
    }
   ],
   "source": [
    "states_melt = pd.melt(ds_chars,\n",
    "        id_vars=['name'],\n",
    "        value_vars=['HP', 'home_state'])\n",
    "states_melt"
   ]
  },
  {
   "cell_type": "code",
   "execution_count": 39,
   "outputs": [
    {
     "traceback": [
      "\u001b[0;31m---------------------------------------------------------------------------\u001b[0m",
      "\u001b[0;31mKeyError\u001b[0m                                  Traceback (most recent call last)",
      "\u001b[0;32m<ipython-input-39-9860a829a0f1>\u001b[0m in \u001b[0;36m<module>\u001b[0;34m\u001b[0m\n\u001b[0;32m----> 1\u001b[0;31m \u001b[0mstates_melt\u001b[0m\u001b[0;34m.\u001b[0m\u001b[0mpivot\u001b[0m\u001b[0;34m(\u001b[0m\u001b[0mindex\u001b[0m\u001b[0;34m=\u001b[0m\u001b[0;34m'name'\u001b[0m\u001b[0;34m,\u001b[0m\u001b[0mcolumns\u001b[0m\u001b[0;34m=\u001b[0m\u001b[0;34m'name'\u001b[0m\u001b[0;34m,\u001b[0m \u001b[0mvalues\u001b[0m\u001b[0;34m=\u001b[0m\u001b[0;34m[\u001b[0m\u001b[0;34m'HP'\u001b[0m\u001b[0;34m,\u001b[0m \u001b[0;34m'home_state'\u001b[0m\u001b[0;34m]\u001b[0m\u001b[0;34m)\u001b[0m\u001b[0;34m\u001b[0m\u001b[0m\n\u001b[0m\u001b[1;32m      2\u001b[0m \u001b[0;34m\u001b[0m\u001b[0m\n",
      "\u001b[0;32m/Library/Frameworks/Python.framework/Versions/3.7/lib/python3.7/site-packages/pandas/core/frame.py\u001b[0m in \u001b[0;36mpivot\u001b[0;34m(self, index, columns, values)\u001b[0m\n\u001b[1;32m   5932\u001b[0m         \u001b[0;32mfrom\u001b[0m \u001b[0mpandas\u001b[0m\u001b[0;34m.\u001b[0m\u001b[0mcore\u001b[0m\u001b[0;34m.\u001b[0m\u001b[0mreshape\u001b[0m\u001b[0;34m.\u001b[0m\u001b[0mpivot\u001b[0m \u001b[0;32mimport\u001b[0m \u001b[0mpivot\u001b[0m\u001b[0;34m\u001b[0m\u001b[0m\n\u001b[1;32m   5933\u001b[0m \u001b[0;34m\u001b[0m\u001b[0m\n\u001b[0;32m-> 5934\u001b[0;31m         \u001b[0;32mreturn\u001b[0m \u001b[0mpivot\u001b[0m\u001b[0;34m(\u001b[0m\u001b[0mself\u001b[0m\u001b[0;34m,\u001b[0m \u001b[0mindex\u001b[0m\u001b[0;34m=\u001b[0m\u001b[0mindex\u001b[0m\u001b[0;34m,\u001b[0m \u001b[0mcolumns\u001b[0m\u001b[0;34m=\u001b[0m\u001b[0mcolumns\u001b[0m\u001b[0;34m,\u001b[0m \u001b[0mvalues\u001b[0m\u001b[0;34m=\u001b[0m\u001b[0mvalues\u001b[0m\u001b[0;34m)\u001b[0m\u001b[0;34m\u001b[0m\u001b[0m\n\u001b[0m\u001b[1;32m   5935\u001b[0m \u001b[0;34m\u001b[0m\u001b[0m\n\u001b[1;32m   5936\u001b[0m     _shared_docs[\n",
      "\u001b[0;32m/Library/Frameworks/Python.framework/Versions/3.7/lib/python3.7/site-packages/pandas/core/reshape/pivot.py\u001b[0m in \u001b[0;36mpivot\u001b[0;34m(data, index, columns, values)\u001b[0m\n\u001b[1;32m    424\u001b[0m             \u001b[0;31m# Exclude tuple because it is seen as a single column name\u001b[0m\u001b[0;34m\u001b[0m\u001b[0;34m\u001b[0m\u001b[0m\n\u001b[1;32m    425\u001b[0m             indexed = data._constructor(\n\u001b[0;32m--> 426\u001b[0;31m                 \u001b[0mdata\u001b[0m\u001b[0;34m[\u001b[0m\u001b[0mvalues\u001b[0m\u001b[0;34m]\u001b[0m\u001b[0;34m.\u001b[0m\u001b[0mvalues\u001b[0m\u001b[0;34m,\u001b[0m \u001b[0mindex\u001b[0m\u001b[0;34m=\u001b[0m\u001b[0mindex\u001b[0m\u001b[0;34m,\u001b[0m \u001b[0mcolumns\u001b[0m\u001b[0;34m=\u001b[0m\u001b[0mvalues\u001b[0m\u001b[0;34m\u001b[0m\u001b[0m\n\u001b[0m\u001b[1;32m    427\u001b[0m             )\n\u001b[1;32m    428\u001b[0m         \u001b[0;32melse\u001b[0m\u001b[0;34m:\u001b[0m\u001b[0;34m\u001b[0m\u001b[0m\n",
      "\u001b[0;32m/Library/Frameworks/Python.framework/Versions/3.7/lib/python3.7/site-packages/pandas/core/frame.py\u001b[0m in \u001b[0;36m__getitem__\u001b[0;34m(self, key)\u001b[0m\n\u001b[1;32m   2999\u001b[0m             \u001b[0;32mif\u001b[0m \u001b[0mis_iterator\u001b[0m\u001b[0;34m(\u001b[0m\u001b[0mkey\u001b[0m\u001b[0;34m)\u001b[0m\u001b[0;34m:\u001b[0m\u001b[0;34m\u001b[0m\u001b[0m\n\u001b[1;32m   3000\u001b[0m                 \u001b[0mkey\u001b[0m \u001b[0;34m=\u001b[0m \u001b[0mlist\u001b[0m\u001b[0;34m(\u001b[0m\u001b[0mkey\u001b[0m\u001b[0;34m)\u001b[0m\u001b[0;34m\u001b[0m\u001b[0m\n\u001b[0;32m-> 3001\u001b[0;31m             \u001b[0mindexer\u001b[0m \u001b[0;34m=\u001b[0m \u001b[0mself\u001b[0m\u001b[0;34m.\u001b[0m\u001b[0mloc\u001b[0m\u001b[0;34m.\u001b[0m\u001b[0m_convert_to_indexer\u001b[0m\u001b[0;34m(\u001b[0m\u001b[0mkey\u001b[0m\u001b[0;34m,\u001b[0m \u001b[0maxis\u001b[0m\u001b[0;34m=\u001b[0m\u001b[0;36m1\u001b[0m\u001b[0;34m,\u001b[0m \u001b[0mraise_missing\u001b[0m\u001b[0;34m=\u001b[0m\u001b[0;32mTrue\u001b[0m\u001b[0;34m)\u001b[0m\u001b[0;34m\u001b[0m\u001b[0m\n\u001b[0m\u001b[1;32m   3002\u001b[0m \u001b[0;34m\u001b[0m\u001b[0m\n\u001b[1;32m   3003\u001b[0m         \u001b[0;31m# take() does not accept boolean indexers\u001b[0m\u001b[0;34m\u001b[0m\u001b[0;34m\u001b[0m\u001b[0m\n",
      "\u001b[0;32m/Library/Frameworks/Python.framework/Versions/3.7/lib/python3.7/site-packages/pandas/core/indexing.py\u001b[0m in \u001b[0;36m_convert_to_indexer\u001b[0;34m(self, obj, axis, is_setter, raise_missing)\u001b[0m\n\u001b[1;32m   1283\u001b[0m                 \u001b[0;31m# When setting, missing keys are not allowed, even with .loc:\u001b[0m\u001b[0;34m\u001b[0m\u001b[0;34m\u001b[0m\u001b[0m\n\u001b[1;32m   1284\u001b[0m                 \u001b[0mkwargs\u001b[0m \u001b[0;34m=\u001b[0m \u001b[0;34m{\u001b[0m\u001b[0;34m\"raise_missing\"\u001b[0m\u001b[0;34m:\u001b[0m \u001b[0;32mTrue\u001b[0m \u001b[0;32mif\u001b[0m \u001b[0mis_setter\u001b[0m \u001b[0;32melse\u001b[0m \u001b[0mraise_missing\u001b[0m\u001b[0;34m}\u001b[0m\u001b[0;34m\u001b[0m\u001b[0m\n\u001b[0;32m-> 1285\u001b[0;31m                 \u001b[0;32mreturn\u001b[0m \u001b[0mself\u001b[0m\u001b[0;34m.\u001b[0m\u001b[0m_get_listlike_indexer\u001b[0m\u001b[0;34m(\u001b[0m\u001b[0mobj\u001b[0m\u001b[0;34m,\u001b[0m \u001b[0maxis\u001b[0m\u001b[0;34m,\u001b[0m \u001b[0;34m**\u001b[0m\u001b[0mkwargs\u001b[0m\u001b[0;34m)\u001b[0m\u001b[0;34m[\u001b[0m\u001b[0;36m1\u001b[0m\u001b[0;34m]\u001b[0m\u001b[0;34m\u001b[0m\u001b[0m\n\u001b[0m\u001b[1;32m   1286\u001b[0m         \u001b[0;32melse\u001b[0m\u001b[0;34m:\u001b[0m\u001b[0;34m\u001b[0m\u001b[0m\n\u001b[1;32m   1287\u001b[0m             \u001b[0;32mtry\u001b[0m\u001b[0;34m:\u001b[0m\u001b[0;34m\u001b[0m\u001b[0m\n",
      "\u001b[0;32m/Library/Frameworks/Python.framework/Versions/3.7/lib/python3.7/site-packages/pandas/core/indexing.py\u001b[0m in \u001b[0;36m_get_listlike_indexer\u001b[0;34m(self, key, axis, raise_missing)\u001b[0m\n\u001b[1;32m   1090\u001b[0m \u001b[0;34m\u001b[0m\u001b[0m\n\u001b[1;32m   1091\u001b[0m         self._validate_read_indexer(\n\u001b[0;32m-> 1092\u001b[0;31m             \u001b[0mkeyarr\u001b[0m\u001b[0;34m,\u001b[0m \u001b[0mindexer\u001b[0m\u001b[0;34m,\u001b[0m \u001b[0mo\u001b[0m\u001b[0;34m.\u001b[0m\u001b[0m_get_axis_number\u001b[0m\u001b[0;34m(\u001b[0m\u001b[0maxis\u001b[0m\u001b[0;34m)\u001b[0m\u001b[0;34m,\u001b[0m \u001b[0mraise_missing\u001b[0m\u001b[0;34m=\u001b[0m\u001b[0mraise_missing\u001b[0m\u001b[0;34m\u001b[0m\u001b[0m\n\u001b[0m\u001b[1;32m   1093\u001b[0m         )\n\u001b[1;32m   1094\u001b[0m         \u001b[0;32mreturn\u001b[0m \u001b[0mkeyarr\u001b[0m\u001b[0;34m,\u001b[0m \u001b[0mindexer\u001b[0m\u001b[0;34m\u001b[0m\u001b[0m\n",
      "\u001b[0;32m/Library/Frameworks/Python.framework/Versions/3.7/lib/python3.7/site-packages/pandas/core/indexing.py\u001b[0m in \u001b[0;36m_validate_read_indexer\u001b[0;34m(self, key, indexer, axis, raise_missing)\u001b[0m\n\u001b[1;32m   1175\u001b[0m                 raise KeyError(\n\u001b[1;32m   1176\u001b[0m                     \"None of [{key}] are in the [{axis}]\".format(\n\u001b[0;32m-> 1177\u001b[0;31m                         \u001b[0mkey\u001b[0m\u001b[0;34m=\u001b[0m\u001b[0mkey\u001b[0m\u001b[0;34m,\u001b[0m \u001b[0maxis\u001b[0m\u001b[0;34m=\u001b[0m\u001b[0mself\u001b[0m\u001b[0;34m.\u001b[0m\u001b[0mobj\u001b[0m\u001b[0;34m.\u001b[0m\u001b[0m_get_axis_name\u001b[0m\u001b[0;34m(\u001b[0m\u001b[0maxis\u001b[0m\u001b[0;34m)\u001b[0m\u001b[0;34m\u001b[0m\u001b[0m\n\u001b[0m\u001b[1;32m   1178\u001b[0m                     )\n\u001b[1;32m   1179\u001b[0m                 )\n",
      "\u001b[0;31mKeyError\u001b[0m: \"None of [Index(['HP', 'home_state'], dtype='object')] are in the [columns]\""
     ],
     "ename": "KeyError",
     "evalue": "\"None of [Index(['HP', 'home_state'], dtype='object')] are in the [columns]\"",
     "output_type": "error"
    }
   ],
   "source": [],
   "metadata": {
    "collapsed": false,
    "pycharm": {
     "name": "#%%\n",
     "is_executing": false
    }
   }
  },
  {
   "cell_type": "markdown",
   "metadata": {},
   "source": [
    "## Bringing it all together with the Animal Shelter Data\n",
    "\n",
    "Join the data from the [Austin Animal Shelter Intake dataset](https://data.austintexas.gov/Health-and-Community-Services/Austin-Animal-Center-Intakes/wter-evkm) to the outcomes dataset by Animal ID.\n",
    "\n",
    "Use the dates from each dataset to see how long animals spend in the shelter. Does it differ by time of year? By outcome?\n",
    "\n",
    "The Url for the Intake Dataset is here: https://data.austintexas.gov/api/views/wter-evkm/rows.csv?accessType=DOWNLOAD\n",
    "\n",
    "_Hints_ :\n",
    "- import and clean the intake dataset first\n",
    "- use apply/applymap/lambda to change the variables to their proper format in the intake data\n",
    "- rename the columns in the intake dataset *before* joining\n",
    "- create a new days-in-shelter variable\n",
    "- Notice that some values in \"days_in_shelter\" column are NaN or values < 0 (remove these rows using the \"<\" operator and ~is.na())\n",
    "- Use group_by to get some interesting information about the dataset\n",
    "\n",
    "Make sure to export and save your cleaned dataset. We will use it in a later lecture!\n",
    "\n",
    "use the notation `df.to_csv()` to write the `df` to a csv. Read more about the `to_csv()` documentation [here](https://pandas.pydata.org/pandas-docs/stable/reference/api/pandas.DataFrame.to_csv.html)"
   ]
  },
  {
   "cell_type": "code",
   "execution_count": null,
   "metadata": {},
   "outputs": [],
   "source": [
    "#code here"
   ]
  },
  {
   "cell_type": "markdown",
   "metadata": {},
   "source": [
    "![matplotlib](https://matplotlib.org/_static/logo2.png)\n",
    "# Data Visualization with Matplotlib\n",
    "\n",
    "\n",
    "### Why is visualization important?\n",
    "\n",
    "\n",
    "There are a lot of visualizations out there these days.\n",
    "\n",
    "Ultimately they are about quickly revealing relationships and anomolies.\n",
    "\n",
    "While we will review what makes a **GOOD** visualization later, we will cover a few basic types today.\n",
    "\n",
    "Let's look at some [examples from python graphs](https://python-graph-gallery.com/)\n"
   ]
  },
  {
   "cell_type": "code",
   "execution_count": 40,
   "metadata": {
    "pycharm": {
     "is_executing": false
    }
   },
   "outputs": [],
   "source": [
    "import matplotlib.pyplot as plt\n",
    "import numpy as np\n",
    "%matplotlib inline"
   ]
  },
  {
   "cell_type": "markdown",
   "metadata": {},
   "source": [
    "\n",
    "![msatplot](https://python-graph-gallery.com/wp-content/uploads/Logo_PGG_full-3.jpg)\n",
    "\n",
    "The [Python Graph Gallery](https://python-graph-gallery.com/matplotlib/) has some great resources to guide you through the code needed to create each type of matplotlib plot. \n",
    "\n",
    "### Plot Anatomy\n",
    "Let's spend some time on the terminology of a plot. There are a lot of options to set in matplotlib plots, so let's identify some common terminology. \n",
    "\n",
    "The sequence of events with matplotlib are:\n",
    "\n",
    "| Step | Code Example |\n",
    "| :---- | :------------ |\n",
    "| 1. Create figure | `fig = plt.figure(figsize=(2, 4))` |\n",
    "| 2. Create axis object | `ax = plt.subplot()` |\n",
    "| 3. Make adjustments | `plt.title`, `ax.set_xticks`, etc |\n",
    "| 4. Show final plot | `plt.show()` . |\n",
    "\n",
    "\n",
    "The [Pyplot tutorial](https://matplotlib.org/tutorials/introductory/pyplot.html) shows a list of options you can set within a plot.\n",
    "\n",
    "<img src=\"https://matplotlib.org/_images/sphx_glr_anatomy_001.png\" width=550>\n",
    "\n",
    "\n",
    "Let's look [how they created this plot.](https://matplotlib.org/gallery/showcase/anatomy.html)"
   ]
  },
  {
   "cell_type": "markdown",
   "metadata": {},
   "source": [
    "### 1 Barplots\n",
    "Barplots are used for displaying __one dimensional__, __discrete__ data. You call plt.bar with two arguments:\n",
    "- the x — a list of x-positions for each bar\n",
    "- the y-values — a list of heights for each bar"
   ]
  },
  {
   "cell_type": "code",
   "execution_count": 43,
   "outputs": [
    {
     "data": {
      "text/plain": "[0, 1, 2, 3, 4]"
     },
     "metadata": {},
     "output_type": "execute_result",
     "execution_count": 43
    }
   ],
   "source": [
    "list(range(5))"
   ],
   "metadata": {
    "collapsed": false,
    "pycharm": {
     "name": "#%%\n",
     "is_executing": false
    }
   }
  },
  {
   "cell_type": "code",
   "execution_count": 47,
   "metadata": {
    "scrolled": false,
    "pycharm": {
     "is_executing": false
    }
   },
   "outputs": [
    {
     "data": {
      "text/plain": "<Figure size 432x288 with 1 Axes>",
      "image/png": "[encoded data removed]"
     },
     "metadata": {
      "needs_background": "light"
     },
     "output_type": "display_data"
    }
   ],
   "source": [
    "# an example of a bar plot\n",
    "ax = plt.subplot()\n",
    "our_dogs = [\"dengue\", \"dolce\", \"murray\", \"dog_a\", \"dog_b\", \"dog_c\"]\n",
    "dogs_age = [5, 8, 5, 4, 6, 7]\n",
    "\n",
    "plt.bar(range(len(our_dogs)), dogs_age)\n",
    "\n",
    "# set ticks values, as a method of the axes\n",
    "ax.set_xticks(range(0, len(our_dogs)))\n",
    "ax.set_xticklabels(our_dogs)\n",
    "\n",
    "plt.title('age of random dogs')\n",
    "plt.xlabel('dogs')\n",
    "plt.ylabel('age')\n",
    "plt.show()"
   ]
  },
  {
   "cell_type": "markdown",
   "metadata": {},
   "source": [
    "[What is ax and figure?](https://stackoverflow.com/questions/34162443/why-do-many-examples-use-fig-ax-plt-subplots-in-matplotlib-pyplot-python)"
   ]
  },
  {
   "cell_type": "code",
   "execution_count": 48,
   "metadata": {
    "scrolled": false,
    "pycharm": {
     "is_executing": false
    }
   },
   "outputs": [
    {
     "data": {
      "text/plain": "Text(0.5, 1.0, 'cat age')"
     },
     "metadata": {},
     "output_type": "execute_result",
     "execution_count": 48
    },
    {
     "data": {
      "text/plain": "<Figure size 576x720 with 2 Axes>",
      "image/png": "[encoded data removed]"
     },
     "metadata": {
      "needs_background": "light"
     },
     "output_type": "display_data"
    }
   ],
   "source": [
    "# utilizing the subplot function and creating subplots\n",
    "our_cats = [\"cat_1\", \"cat_2\", \"cat_3\", \"cat_4\", \"cat_5\", \"cat_6\"]\n",
    "cats_age = [14, 16, 17, 20, 18, 24]\n",
    "fig = plt.figure(figsize=(8, 10))\n",
    "plt.subplot(2, 1, 1)\n",
    "plt.bar(range(len(our_dogs)), dogs_age, color='pink')\n",
    "plt.title('dog age')\n",
    "plt.subplot(2, 1, 2)\n",
    "plt.bar(range(len(our_cats)), cats_age, color='green')\n",
    "plt.title('cat age')"
   ]
  },
  {
   "cell_type": "markdown",
   "metadata": {},
   "source": [
    "What is something that you notice here that needs to be fixed?"
   ]
  },
  {
   "cell_type": "code",
   "execution_count": 50,
   "metadata": {
    "scrolled": true,
    "pycharm": {
     "is_executing": false
    }
   },
   "outputs": [
    {
     "data": {
      "text/plain": "<matplotlib.legend.Legend at 0x11b759e80>"
     },
     "metadata": {},
     "output_type": "execute_result",
     "execution_count": 50
    },
    {
     "data": {
      "text/plain": "<Figure size 432x288 with 1 Axes>",
      "image/png": "[encoded data removed]"
     },
     "metadata": {
      "needs_background": "light"
     },
     "output_type": "display_data"
    }
   ],
   "source": [
    "# we can create overlaid or side-by-side bargraph. You need\n",
    "# to shift the x value by width to accommodate for two graphs.\n",
    "\n",
    "fig = plt.figure()\n",
    "n = 1  # This is our first dataset (out of 2)\n",
    "t = 2  # Number of datasets\n",
    "d = 6  # Number of sets of bars\n",
    "w = 1  # Width of each bar\n",
    "\n",
    "# essentially, this list comprehension gives us the position\n",
    "dog_values = [t*element + w*n for element in range(d)]\n",
    "\n",
    "# of the position of dogs\n",
    "plt.bar(dog_values, dogs_age, color='green')\n",
    "\n",
    "\n",
    "n = 2  # This is our second dataset (out of 2)\n",
    "t = 2  # Number of datasets\n",
    "d = 6  # Number of sets of bars\n",
    "w = 1  # Width of each bar\n",
    "\n",
    "cat_values = [t*element + w*n for element in range(d)]\n",
    "\n",
    "plt.bar(cat_values, cats_age, color='purple')\n",
    "plt.legend([\"dogs\", \"cats\"])"
   ]
  },
  {
   "cell_type": "code",
   "execution_count": 51,
   "metadata": {
    "pycharm": {
     "is_executing": false
    }
   },
   "outputs": [
    {
     "name": "stdout",
     "text": [
      "[1, 3, 5, 7, 9, 11]\n[2, 4, 6, 8, 10, 12]\n"
     ],
     "output_type": "stream"
    }
   ],
   "source": [
    "print(dog_values)\n",
    "print(cat_values)"
   ]
  },
  {
   "cell_type": "code",
   "execution_count": 52,
   "metadata": {
    "scrolled": true,
    "pycharm": {
     "is_executing": false
    }
   },
   "outputs": [
    {
     "data": {
      "text/plain": "<Figure size 432x288 with 1 Axes>",
      "image/png": "[encoded data removed]"
     },
     "metadata": {
      "needs_background": "light"
     },
     "output_type": "display_data"
    }
   ],
   "source": [
    "# stacked barplots\n",
    "ax = plt.subplot()\n",
    "music_festivals = [\"Coachella\", \"Govball\", \"EDC\", \"Ultra\"]\n",
    "ticket_sales_in_millon = [114, 62, 120, 116]\n",
    "people_attended_in_thousands = [126, 114, 130, 110]\n",
    "\n",
    "plt.bar(range(len(music_festivals)),\n",
    "        ticket_sales_in_millon)\n",
    "plt.bar(range(len(music_festivals)),\n",
    "        people_attended_in_thousands,\n",
    "        bottom=ticket_sales_in_millon)\n",
    "\n",
    "plt.legend([\"tix sales\", \"number of people\"])\n",
    "ax.set_xticks(range(0, len(music_festivals)))\n",
    "ax.set_xticklabels(music_festivals)\n",
    "plt.show()"
   ]
  },
  {
   "cell_type": "markdown",
   "metadata": {},
   "source": [
    "### Bar plot - animal shelter dataset\n",
    "\n",
    "Let's make a bar plot comparing dogs and cats by month when they are admitted to the shelter."
   ]
  },
  {
   "cell_type": "code",
   "execution_count": 53,
   "metadata": {
    "pycharm": {
     "is_executing": false
    }
   },
   "outputs": [],
   "source": [
    "animal_shelter_df = pd.read_csv('https://data.austintexas.gov/api/views/9t4d-g238/rows.csv?accessType=DOWNLOAD')"
   ]
  },
  {
   "cell_type": "code",
   "execution_count": 54,
   "metadata": {
    "pycharm": {
     "is_executing": false
    }
   },
   "outputs": [],
   "source": [
    "animal_shelter_df.columns = [x.lower().replace(' ','_') for x in animal_shelter_df.columns]"
   ]
  },
  {
   "cell_type": "code",
   "execution_count": 55,
   "metadata": {
    "pycharm": {
     "is_executing": false
    }
   },
   "outputs": [
    {
     "data": {
      "text/plain": "  animal_id        name                datetime               monthyear  \\\n0   A720371       Moose  02/13/2016 05:59:00 PM  02/13/2016 05:59:00 PM   \n1   A674754         NaN  03/18/2014 11:47:00 AM  03/18/2014 11:47:00 AM   \n2   A689724  *Donatello  10/18/2014 06:52:00 PM  10/18/2014 06:52:00 PM   \n3   A680969       *Zeus  08/05/2014 04:59:00 PM  08/05/2014 04:59:00 PM   \n4   A684617         NaN  07/27/2014 09:00:00 AM  07/27/2014 09:00:00 AM   \n\n  date_of_birth outcome_type outcome_subtype animal_type sex_upon_outcome  \\\n0    10/08/2015     Adoption             NaN         Dog    Neutered Male   \n1    03/12/2014     Transfer         Partner         Cat      Intact Male   \n2    08/01/2014     Adoption             NaN         Cat    Neutered Male   \n3    06/03/2014     Adoption             NaN         Cat    Neutered Male   \n4    07/26/2012     Transfer            SCRP         Cat    Intact Female   \n\n  age_upon_outcome                               breed               color  \n0         4 months  Anatol Shepherd/Labrador Retriever                Buff  \n1           6 days              Domestic Shorthair Mix        Orange Tabby  \n2         2 months              Domestic Shorthair Mix               Black  \n3         2 months              Domestic Shorthair Mix  White/Orange Tabby  \n4          2 years              Domestic Shorthair Mix               Black  ",
      "text/html": "<div>\n<style scoped>\n    .dataframe tbody tr th:only-of-type {\n        vertical-align: middle;\n    }\n\n    .dataframe tbody tr th {\n        vertical-align: top;\n    }\n\n    .dataframe thead th {\n        text-align: right;\n    }\n</style>\n<table border=\"1\" class=\"dataframe\">\n  <thead>\n    <tr style=\"text-align: right;\">\n      <th></th>\n      <th>animal_id</th>\n      <th>name</th>\n      <th>datetime</th>\n      <th>monthyear</th>\n      <th>date_of_birth</th>\n      <th>outcome_type</th>\n      <th>outcome_subtype</th>\n      <th>animal_type</th>\n      <th>sex_upon_outcome</th>\n      <th>age_upon_outcome</th>\n      <th>breed</th>\n      <th>color</th>\n    </tr>\n  </thead>\n  <tbody>\n    <tr>\n      <th>0</th>\n      <td>A720371</td>\n      <td>Moose</td>\n      <td>02/13/2016 05:59:00 PM</td>\n      <td>02/13/2016 05:59:00 PM</td>\n      <td>10/08/2015</td>\n      <td>Adoption</td>\n      <td>NaN</td>\n      <td>Dog</td>\n      <td>Neutered Male</td>\n      <td>4 months</td>\n      <td>Anatol Shepherd/Labrador Retriever</td>\n      <td>Buff</td>\n    </tr>\n    <tr>\n      <th>1</th>\n      <td>A674754</td>\n      <td>NaN</td>\n      <td>03/18/2014 11:47:00 AM</td>\n      <td>03/18/2014 11:47:00 AM</td>\n      <td>03/12/2014</td>\n      <td>Transfer</td>\n      <td>Partner</td>\n      <td>Cat</td>\n      <td>Intact Male</td>\n      <td>6 days</td>\n      <td>Domestic Shorthair Mix</td>\n      <td>Orange Tabby</td>\n    </tr>\n    <tr>\n      <th>2</th>\n      <td>A689724</td>\n      <td>*Donatello</td>\n      <td>10/18/2014 06:52:00 PM</td>\n      <td>10/18/2014 06:52:00 PM</td>\n      <td>08/01/2014</td>\n      <td>Adoption</td>\n      <td>NaN</td>\n      <td>Cat</td>\n      <td>Neutered Male</td>\n      <td>2 months</td>\n      <td>Domestic Shorthair Mix</td>\n      <td>Black</td>\n    </tr>\n    <tr>\n      <th>3</th>\n      <td>A680969</td>\n      <td>*Zeus</td>\n      <td>08/05/2014 04:59:00 PM</td>\n      <td>08/05/2014 04:59:00 PM</td>\n      <td>06/03/2014</td>\n      <td>Adoption</td>\n      <td>NaN</td>\n      <td>Cat</td>\n      <td>Neutered Male</td>\n      <td>2 months</td>\n      <td>Domestic Shorthair Mix</td>\n      <td>White/Orange Tabby</td>\n    </tr>\n    <tr>\n      <th>4</th>\n      <td>A684617</td>\n      <td>NaN</td>\n      <td>07/27/2014 09:00:00 AM</td>\n      <td>07/27/2014 09:00:00 AM</td>\n      <td>07/26/2012</td>\n      <td>Transfer</td>\n      <td>SCRP</td>\n      <td>Cat</td>\n      <td>Intact Female</td>\n      <td>2 years</td>\n      <td>Domestic Shorthair Mix</td>\n      <td>Black</td>\n    </tr>\n  </tbody>\n</table>\n</div>"
     },
     "metadata": {},
     "output_type": "execute_result",
     "execution_count": 55
    }
   ],
   "source": [
    "animal_shelter_df.head()"
   ]
  },
  {
   "cell_type": "markdown",
   "metadata": {},
   "source": [
    "### 2 Histogram\n",
    "Histograms are like barplots in the sense that it describe __one-dimensional__ data. A histogram divides the variable into bins, counts the number of observations in each bin, and shows the bins on the x-axis and the frequency on the y-axis. It is used for visualizing __continuous__ variables. <br>\n",
    "\n",
    "From the documentation: compute and draw the histogram of x. The return value is a tuple (__n, bins, patches__) or ([n0, n1, ...], bins, [patches0, patches1,...]) if the input contains multiple data."
   ]
  },
  {
   "attachments": {
    "Screen%20Shot%202019-02-03%20at%2010.13.45%20PM.png": {
     "image/png": "[encoded data removed]"
    }
   },
   "cell_type": "markdown",
   "metadata": {},
   "source": [
    "Comparison of barplots and histogram\n",
    "![Screen%20Shot%202019-02-03%20at%2010.13.45%20PM.png](attachment:Screen%20Shot%202019-02-03%20at%2010.13.45%20PM.png)"
   ]
  },
  {
   "cell_type": "code",
   "execution_count": 56,
   "metadata": {
    "scrolled": true,
    "pycharm": {
     "is_executing": false
    }
   },
   "outputs": [
    {
     "data": {
      "text/plain": "<Figure size 432x288 with 1 Axes>",
      "image/png": "[encoded data removed]"
     },
     "metadata": {
      "needs_background": "light"
     },
     "output_type": "display_data"
    }
   ],
   "source": [
    "# Set seed for reproducability\n",
    "np.random.seed(2018)\n",
    "\n",
    "# Generate 1000 values from 0 standard normal distribution\n",
    "x = np.random.randn(100000)\n",
    "\n",
    "# Plot the distogram with hist() function\n",
    "plt.hist(x, bins=1000, color='purple')\n",
    "\n",
    "plt.xlabel('Normal random distribution')\n",
    "plt.ylabel('Frequency of Values')\n",
    "plt.title('Histograms')\n",
    "plt.show()"
   ]
  },
  {
   "cell_type": "code",
   "execution_count": 58,
   "metadata": {
    "pycharm": {
     "is_executing": false
    }
   },
   "outputs": [
    {
     "data": {
      "text/plain": "<Figure size 720x576 with 1 Axes>",
      "image/png": "[encoded data removed]"
     },
     "metadata": {
      "needs_background": "light"
     },
     "output_type": "display_data"
    }
   ],
   "source": [
    "# overlaid histograms for two distributions\n",
    "# plotting two histograms\n",
    "mu1, sigma1 = 0, 0.1  # mean and standard deviation\n",
    "s1 = np.random.normal(mu1, sigma1, 1000)\n",
    "mu2, sigma2 = 0.2, 0.1\n",
    "s2 = np.random.normal(mu2, sigma2, 1000)\n",
    "plt.figure(figsize=(10, 8))\n",
    "plt.hist(s1, bins=100, density=True, alpha=.5)\n",
    "plt.hist(s2, bins=100, density=True, alpha=.5)\n",
    "plt.show()"
   ]
  },
  {
   "cell_type": "markdown",
   "metadata": {},
   "source": [
    "### 3. Scatterplot - visualizing two dimensional data\n",
    "Scatterplots are usually used for visualizing two dimensional data (observations with two variables). It allows us to examine the relationship between two variables, thus it is sometimes called a correlation plot. "
   ]
  },
  {
   "cell_type": "code",
   "execution_count": null,
   "metadata": {},
   "outputs": [],
   "source": [
    "# generate some data -> the sine wave\n",
    "x = np.linspace(0, 10, 30)\n",
    "y = np.sin(x)\n",
    "plt.scatter(x, y, label=\"Function: sin(x)\")\n",
    "plt.title('Scatter Plot in Matplotlib')\n",
    "plt.legend()\n",
    "plt.show()"
   ]
  },
  {
   "cell_type": "code",
   "execution_count": null,
   "metadata": {
    "scrolled": true
   },
   "outputs": [],
   "source": [
    "# examining correlation with height and weight\n",
    "height = [63, 62, 60, 63, 64, 65, 68, 67, 64, 71, 72, 70, 73]\n",
    "weight = [120, 115, 114, 119, 125, 130, 135, 140, 128, 140, 150, 165, 180]\n",
    "plt.scatter(height, weight, color='r')\n",
    "plt.show()"
   ]
  },
  {
   "cell_type": "markdown",
   "metadata": {},
   "source": [
    "### 4 - Pie Charts"
   ]
  },
  {
   "cell_type": "code",
   "execution_count": null,
   "metadata": {
    "scrolled": true
   },
   "outputs": [],
   "source": [
    "# pie chart\n",
    "music_genre = ['R&B', 'Rock', 'Country', 'House', 'Hip Pop', 'Techno']\n",
    "num_people_like = [15, 5, 3, 7, 18, 3]\n",
    "\n",
    "# Make your plot here\n",
    "plt.figure(figsize=(10, 8))\n",
    "plt.pie(num_people_like, labels=music_genre, autopct=\"%1d%%\")\n",
    "\n",
    "plt.axis('equal')\n",
    "plt.title('Music Preference')\n",
    "\n",
    "plt.show()"
   ]
  },
  {
   "cell_type": "code",
   "execution_count": null,
   "metadata": {},
   "outputs": [],
   "source": []
  }
 ],
 "metadata": {
  "kernelspec": {
   "display_name": "PyCharm (dsc-data-cleaning-project-dc-ds-111819)",
   "language": "python",
   "name": "pycharm-86780380"
  },
  "language_info": {
   "codemirror_mode": {
    "name": "ipython",
    "version": 3
   },
   "file_extension": ".py",
   "mimetype": "text/x-python",
   "name": "python",
   "nbconvert_exporter": "python",
   "pygments_lexer": "ipython3",
   "version": "3.7.0"
  },
  "pycharm": {
   "stem_cell": {
    "cell_type": "raw",
    "source": [],
    "metadata": {
     "collapsed": false
    }
   }
  }
 },
 "nbformat": 4,
 "nbformat_minor": 4
}