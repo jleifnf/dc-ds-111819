{
 "cells": [
  {
   "cell_type": "code",
   "execution_count": 1,
   "metadata": {
    "collapsed": true,
    "pycharm": {
     "is_executing": false
    }
   },
   "outputs": [],
   "source": [
    "# Module Imports\n",
    "import pandas as pd\n"
   ]
  },
  {
   "cell_type": "code",
   "execution_count": 2,
   "outputs": [],
   "source": [
    "# IMDB\n",
    "imdb_names = pd.read_csv('data/imdb.name.basics.csv.gz',)\n",
    "imdb_title = pd.read_csv('data/imdb.title.basics.csv.gz',)\n",
    "imdb_principals = pd.read_csv('data/imdb.title.principals.csv.gz',)\n",
    "imdb_ratings = pd.read_csv('data/imdb.title.ratings.csv.gz',)"
   ],
   "metadata": {
    "collapsed": false,
    "pycharm": {
     "name": "#%%\n",
     "is_executing": false
    }
   }
  },
  {
   "cell_type": "code",
   "execution_count": 8,
   "outputs": [],
   "source": [
    "# Rotten Tomato\n",
    "rt_movies = pd.read_csv('data/rt.movie_info.tsv.gz',delimiter='\\t')\n",
    "rt_reviews = pd.read_csv('data/rt.reviews.tsv.gz',delimiter='\\t', encoding='latin-1')"
   ],
   "metadata": {
    "collapsed": false,
    "pycharm": {
     "name": "#%%\n",
     "is_executing": false
    }
   }
  },
  {
   "cell_type": "code",
   "execution_count": 3,
   "outputs": [],
   "source": [
    "# The Movie DB\n",
    "tmdb_movies = pd.read_csv('data/tmdb.movies.csv.gz',)"
   ],
   "metadata": {
    "collapsed": false,
    "pycharm": {
     "name": "#%%\n",
     "is_executing": false
    }
   }
  },
  {
   "cell_type": "code",
   "execution_count": null,
   "outputs": [],
   "source": [
    "\n"
   ],
   "metadata": {
    "collapsed": false,
    "pycharm": {
     "name": "#%%\n"
    }
   }
  }
 ],
 "metadata": {
  "kernelspec": {
   "name": "pycharm-86780380",
   "language": "python",
   "display_name": "PyCharm (dsc-data-cleaning-project-dc-ds-111819)"
  },
  "language_info": {
   "codemirror_mode": {
    "name": "ipython",
    "version": 2
   },
   "file_extension": ".py",
   "mimetype": "text/x-python",
   "name": "python",
   "nbconvert_exporter": "python",
   "pygments_lexer": "ipython2",
   "version": "2.7.6"
  },
  "pycharm": {
   "stem_cell": {
    "cell_type": "raw",
    "source": [],
    "metadata": {
     "collapsed": false
    }
   }
  }
 },
 "nbformat": 4,
 "nbformat_minor": 0
}