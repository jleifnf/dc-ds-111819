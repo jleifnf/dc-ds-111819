{
 "cells": [
  {
   "cell_type": "markdown",
   "metadata": {},
   "source": [
    "# Linear Algebra, Calculus, and Gradient Descent\n",
    "\n",
    "__Objectives__\n",
    "* Use operations with vectors and matrices to solve systems of linear equations\n",
    "* Identify and describe of scalars, vectors,  matrices, using appropriate mathematical jargon\n",
    "* Set up and solve systems of linear equations with real life examples\n",
    "* Describe gradient descent in relation to slope, derivatives, and step size\n",
    "\n",
    "\n",
    "## Why Linear Algebra?\n",
    "\n",
    "Linear Algebra is the basis of many machine learning models.\n",
    "\n",
    "Data is usually already set up into a matrix by default!\n",
    "\n",
    "<img src= \"./resources/dataset.jpeg\">\n"
   ]
  },
  {
   "cell_type": "markdown",
   "metadata": {},
   "source": [
    "\n",
    "It can be used to model complicated things like language\n",
    "\n",
    "<img src = \"./resources/Word-Vectors.png\">"
   ]
  },
  {
   "cell_type": "markdown",
   "metadata": {},
   "source": [
    "Important for image compression and recognition\n",
    "\n",
    "<img src = \"./resources/images.gif\">"
   ]
  },
  {
   "cell_type": "markdown",
   "metadata": {},
   "source": [
    "Also matrices are the common notation used in the popular libraries like numpy, scipy and sklearn.\n",
    "\n",
    "<img src = \"./resources/matrix_multiplication.png\">\n"
   ]
  },
  {
   "cell_type": "markdown",
   "metadata": {},
   "source": [
    "This is an image from Andrew Ng's Neural Networks and Deep Learning course.\n",
    "\n",
    "<img src = \"./resources/gradient_descent.png\" width  = 500>"
   ]
  },
  {
   "cell_type": "markdown",
   "metadata": {},
   "source": [
    "This is an image from Andrew Ng's Sequence Model's Course. \n",
    "\n",
    "<img src = \"./resources/lstm.png\" width  = 500>"
   ]
  },
  {
   "cell_type": "markdown",
   "metadata": {},
   "source": [
    "## Linear algebra and Linear Regression\n",
    "\n",
    "- Let's move to the notebook matrix algebra with numpy :)"
   ]
  },
  {
   "cell_type": "markdown",
   "metadata": {},
   "source": [
    "## Gradient Descent"
   ]
  },
  {
   "cell_type": "markdown",
   "metadata": {},
   "source": [
    "[Gradient slide](https://www.youtube.com/watch?v=vWFjqgb-ylQ)"
   ]
  },
  {
   "cell_type": "markdown",
   "metadata": {},
   "source": [
    "## Gradient in Action"
   ]
  },
  {
   "cell_type": "code",
   "execution_count": 1,
   "metadata": {},
   "outputs": [],
   "source": [
    "import pandas as pd\n",
    "import numpy as np\n",
    "from matplotlib import pyplot as plt\n",
    "import random\n",
    "import seaborn as sns"
   ]
  },
  {
   "cell_type": "code",
   "execution_count": 2,
   "metadata": {},
   "outputs": [
    {
     "data": {
      "text/plain": [
       "array([0., 0., 0., 0., 0., 0., 0., 0., 0., 0.])"
      ]
     },
     "execution_count": 2,
     "metadata": {},
     "output_type": "execute_result"
    }
   ],
   "source": [
    "numPoints=10\n",
    "np.zeros(shape=numPoints)"
   ]
  },
  {
   "cell_type": "code",
   "execution_count": 3,
   "metadata": {},
   "outputs": [],
   "source": [
    "def genData(numPoints, bias, variance):\n",
    "    x = np.zeros(shape=(numPoints, 2))\n",
    "    y = np.zeros(shape=numPoints)\n",
    "    # basically a straight line\n",
    "    for i in range(0, numPoints):\n",
    "        # bias feature\n",
    "        x[i][0] = 1\n",
    "        x[i][1] = i\n",
    "        # our target variable\n",
    "        y[i] = (i + bias) + np.random.uniform(0, 1) * variance\n",
    "    return x, y"
   ]
  },
  {
   "cell_type": "code",
   "execution_count": 4,
   "metadata": {},
   "outputs": [],
   "source": [
    "x = np.random.uniform(low =0, high=1, size = 1000)\n",
    "\n",
    "y = 10*x + 25 + np.random.normal(loc = 0, scale = 1, size = 1000)"
   ]
  },
  {
   "cell_type": "code",
   "execution_count": 9,
   "metadata": {},
   "outputs": [],
   "source": [
    "# gen 100 points with a bias of 25 and 10 variance as a bit of noise\n",
    "x, y = genData(100, 25, 10)\n",
    "m, n = np.shape(x)"
   ]
  },
  {
   "cell_type": "code",
   "execution_count": 10,
   "metadata": {},
   "outputs": [
    {
     "data": {
      "image/png": "[encoded data removed]",
      "text/plain": [
       "<Figure size 432x288 with 1 Axes>"
      ]
     },
     "metadata": {
      "needs_background": "light"
     },
     "output_type": "display_data"
    }
   ],
   "source": [
    "sns.scatterplot(x=x[:, 1], y=y)\n",
    "\n",
    "plt.show()"
   ]
  },
  {
   "cell_type": "code",
   "execution_count": 11,
   "metadata": {},
   "outputs": [
    {
     "name": "stdout",
     "output_type": "stream",
     "text": [
      "(100, 2)\n"
     ]
    },
    {
     "data": {
      "text/plain": [
       "(100,)"
      ]
     },
     "execution_count": 11,
     "metadata": {},
     "output_type": "execute_result"
    }
   ],
   "source": [
    "print(x.shape)\n",
    "theta = np.array([1.90595185,1.5342646])\n",
    "np.dot(x, theta).shape"
   ]
  },
  {
   "cell_type": "markdown",
   "metadata": {},
   "source": [
    "__Your Turn__\n",
    "\n",
    "Write a gradient descent function for this linear problem\n",
    "\n",
    "- Inputs:\n",
    "x, y, theta: initialized with some random values, alpha: learning rate, m: length of data, numiterations: number of iterations\n",
    "\n",
    "- return: plot the errors for each iterations\n",
    "- return the final theta values"
   ]
  },
  {
   "cell_type": "code",
   "execution_count": 17,
   "metadata": {},
   "outputs": [],
   "source": [
    "# %load -r 1-20 supplement.py\n",
    "def gradientDescent(x, y, theta, alpha, m, numIterations):\n",
    "    xTrans = x.transpose()\n",
    "    costs = []\n",
    "    for i in range(0, numIterations):\n",
    "        hypothesis = np.dot(x, theta)\n",
    "        loss = hypothesis - y\n",
    "        # avg cost per example (the 2 in 2*m doesn't really matter here.\n",
    "        # But to be consistent with the gradient, I include it)\n",
    "        cost = np.sum(loss ** 2) / (2 * m)\n",
    "        if i % (numIterations // 20) == 0:\n",
    "            print(\"Iteration %d | Cost: %f\" % (i, cost))\n",
    "            print(theta)\n",
    "        costs.append(cost)\n",
    "        # avg gradient per example\n",
    "        gradient = np.dot(xTrans, loss) / m\n",
    "        # update\n",
    "        theta = theta - alpha * gradient\n",
    "    sns.scatterplot(y=costs, x=[i for i in range(len(costs))])\n",
    "\n",
    "    return theta"
   ]
  },
  {
   "cell_type": "code",
   "execution_count": 18,
   "metadata": {},
   "outputs": [
    {
     "name": "stdout",
     "output_type": "stream",
     "text": [
      "Iteration 0 | Cost: 681.158281\n",
      "[37.0595185  1.5342646]\n",
      "Iteration 5000 | Cost: 9.992553\n",
      "[36.20300036  0.90847919]\n",
      "Iteration 10000 | Cost: 8.877813\n",
      "[35.45700846  0.91972617]\n",
      "Iteration 15000 | Cost: 8.012872\n",
      "[34.79989444  0.92963318]\n",
      "Iteration 20000 | Cost: 7.341753\n",
      "[34.22106935  0.93835986]\n",
      "Iteration 25000 | Cost: 6.821023\n",
      "[33.71120579  0.94604684]\n",
      "Iteration 30000 | Cost: 6.416981\n",
      "[33.26208766  0.95281799]\n",
      "Iteration 35000 | Cost: 6.103479\n",
      "[32.86647771  0.95878242]\n",
      "Iteration 40000 | Cost: 5.860230\n",
      "[32.51800095  0.96403624]\n",
      "Iteration 45000 | Cost: 5.671489\n",
      "[32.2110419   0.96866412]\n",
      "Iteration 50000 | Cost: 5.525042\n",
      "[31.94065412  0.97274063]\n",
      "Iteration 55000 | Cost: 5.411412\n",
      "[31.70248049  0.97633147]\n",
      "Iteration 60000 | Cost: 5.323245\n",
      "[31.49268299  0.97949449]\n",
      "Iteration 65000 | Cost: 5.254835\n",
      "[31.30788089  0.98228067]\n",
      "Iteration 70000 | Cost: 5.201755\n",
      "[31.1450962  0.9847349]\n",
      "Iteration 75000 | Cost: 5.160570\n",
      "[31.00170578  0.98689673]\n",
      "Iteration 80000 | Cost: 5.128613\n",
      "[30.87539897  0.988801  ]\n",
      "Iteration 85000 | Cost: 5.103818\n",
      "[30.76414042  0.99047839]\n",
      "Iteration 90000 | Cost: 5.084579\n",
      "[30.66613727  0.99195594]\n",
      "Iteration 95000 | Cost: 5.069651\n",
      "[30.57981028  0.99325745]\n"
     ]
    },
    {
     "data": {
      "text/plain": [
       "array([30.50376833,  0.9944039 ])"
      ]
     },
     "execution_count": 18,
     "metadata": {},
     "output_type": "execute_result"
    },
    {
     "data": {
      "image/png": "[encoded data removed]",
      "text/plain": [
       "<Figure size 432x288 with 1 Axes>"
      ]
     },
     "metadata": {
      "needs_background": "light"
     },
     "output_type": "display_data"
    }
   ],
   "source": [
    "numIterations = 100000\n",
    "alpha = 0.0001\n",
    "theta = np.array([37.0595185,1.5342646])\n",
    "a = gradientDescent(x, y, theta, alpha, m, numIterations)\n",
    "a"
   ]
  },
  {
   "cell_type": "markdown",
   "metadata": {},
   "source": [
    "Let's compare the results with the sklearn."
   ]
  },
  {
   "cell_type": "code",
   "execution_count": 15,
   "metadata": {},
   "outputs": [],
   "source": [
    "from sklearn.linear_model import LinearRegression"
   ]
  },
  {
   "cell_type": "code",
   "execution_count": 16,
   "metadata": {},
   "outputs": [
    {
     "name": "stdout",
     "output_type": "stream",
     "text": [
      "[29.94155613  1.00288012]\n"
     ]
    }
   ],
   "source": [
    "lr = LinearRegression(fit_intercept= False)\n",
    "lr.fit(x,y)\n",
    "print(lr.coef_)\n"
   ]
  },
  {
   "cell_type": "code",
   "execution_count": null,
   "metadata": {},
   "outputs": [],
   "source": []
  }
 ],
 "metadata": {
  "kernelspec": {
   "display_name": "PyCharm (dsc-data-cleaning-project-dc-ds-111819)",
   "language": "python",
   "name": "pycharm-86780380"
  },
  "language_info": {
   "codemirror_mode": {
    "name": "ipython",
    "version": 3
   },
   "file_extension": ".py",
   "mimetype": "text/x-python",
   "name": "python",
   "nbconvert_exporter": "python",
   "pygments_lexer": "ipython3",
   "version": "3.7.0"
  },
  "toc": {
   "base_numbering": 1,
   "nav_menu": {},
   "number_sections": true,
   "sideBar": true,
   "skip_h1_title": false,
   "title_cell": "Table of Contents",
   "title_sidebar": "Contents",
   "toc_cell": false,
   "toc_position": {},
   "toc_section_display": true,
   "toc_window_display": false
  }
 },
 "nbformat": 4,
 "nbformat_minor": 2
}
